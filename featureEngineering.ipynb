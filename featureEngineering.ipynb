{
 "cells": [
  {
   "cell_type": "code",
   "execution_count": 158,
   "metadata": {
    "collapsed": true
   },
   "outputs": [],
   "source": [
    "import difflib\n",
    "import json\n",
    "import logging\n",
    "import string\n",
    "\n",
    "import pandas as pd\n",
    "import numpy as np\n",
    "from tqdm import tqdm, tqdm_notebook\n",
    "\n",
    "from nltk import ngrams\n",
    "from nltk.corpus import stopwords"
   ]
  },
  {
   "cell_type": "code",
   "execution_count": 159,
   "metadata": {},
   "outputs": [
    {
     "data": {
      "application/vnd.jupyter.widget-view+json": {
       "model_id": "cddb809751bc42a2aeebe18ebf0459ff"
      }
     },
     "metadata": {},
     "output_type": "display_data"
    },
    {
     "name": "stdout",
     "output_type": "stream",
     "text": [
      "\n"
     ]
    }
   ],
   "source": [
    "# init logging\n",
    "logger = logging.getLogger()\n",
    "logger.setLevel(logging.DEBUG)\n",
    "\n",
    "# init tqdm\n",
    "try:\n",
    "    if get_ipython().__class__.__name__ == 'ZMQInteractiveShell':\n",
    "        tqdm_notebook().pandas()\n",
    "    else:\n",
    "        tqdm.pandas()\n",
    "except NameError:\n",
    "    tqdm.pandas()\n",
    "    \n",
    "# init stopwords\n",
    "STOPWORDS = set(stopwords.words('english'))"
   ]
  },
  {
   "cell_type": "markdown",
   "metadata": {},
   "source": [
    "#### Load raw data"
   ]
  },
  {
   "cell_type": "code",
   "execution_count": 160,
   "metadata": {
    "collapsed": true
   },
   "outputs": [],
   "source": [
    "df_train = pd.read_csv('data/train_data.csv')\n",
    "df_test = pd.read_csv('data/test_data.csv')\n",
    "df_train_labels = pd.read_csv('data/train_labels.csv')"
   ]
  },
  {
   "cell_type": "code",
   "execution_count": 161,
   "metadata": {
    "collapsed": true
   },
   "outputs": [],
   "source": [
    "df_train = df_train.drop('is_duplicate', axis = 1)\n",
    "df_train = df_train.merge(df_train_labels)\n",
    "\n",
    "#Drop rows with missing Qs\n",
    "df_train = df_train.dropna(axis=0, how='any')\n"
   ]
  },
  {
   "cell_type": "markdown",
   "metadata": {},
   "source": [
    "#### Checklist:\n",
    "- Last Character (Question more likely to be duplicate if they end with same punctuation mark\n",
    "- Average Shared Words - Words shared by question pairs (more words shared = higher chance of duplicate)\n",
    "- Shared Entities (Enzo-engineered entities using spaCy)\n",
    "- Length (word count) - Words per sentence (Questions with different lengths they are unlikely to be duplicates) \n",
    "- Levenshtein Features - How many characters difference between two questions (more functions required = more dissimilar)\n",
    "- Tf-Idf \n",
    "- LDA (topic modelling)\n",
    "\n",
    "\n",
    "https://www.linkedin.com/pulse/kaggle-quora-question-pairs-mar-2017-may-priscilla-li/"
   ]
  },
  {
   "cell_type": "markdown",
   "metadata": {},
   "source": [
    "## Convenience Method\n",
    "Rerun below cell, if you make an adjustment to any of the feature methods. Look at examples below for implementation"
   ]
  },
  {
   "cell_type": "markdown",
   "metadata": {},
   "source": [
    "##### TODO:\n",
    "- parameter for dataframe or numpy representation\n",
    "- add padding for word2vec vectors"
   ]
  },
  {
   "cell_type": "code",
   "execution_count": 162,
   "metadata": {},
   "outputs": [
    {
     "ename": "NameError",
     "evalue": "name 'get_shared_bigrams_pcnt' is not defined",
     "output_type": "error",
     "traceback": [
      "\u001b[0;31m---------------------------------------------------------------------------\u001b[0m",
      "\u001b[0;31mNameError\u001b[0m                                 Traceback (most recent call last)",
      "\u001b[0;32m<ipython-input-162-327cf43a557b>\u001b[0m in \u001b[0;36m<module>\u001b[0;34m()\u001b[0m\n\u001b[1;32m      4\u001b[0m     \u001b[0;34m'shared_word_percent'\u001b[0m\u001b[0;34m:\u001b[0m \u001b[0mshared_word_pcnt\u001b[0m\u001b[0;34m,\u001b[0m\u001b[0;34m\u001b[0m\u001b[0m\n\u001b[1;32m      5\u001b[0m     \u001b[0;34m'shared_bigrams'\u001b[0m\u001b[0;34m:\u001b[0m \u001b[0mget_shared_bigrams\u001b[0m\u001b[0;34m,\u001b[0m\u001b[0;34m\u001b[0m\u001b[0m\n\u001b[0;32m----> 6\u001b[0;31m     \u001b[0;34m'shared_bigrams_percent'\u001b[0m\u001b[0;34m:\u001b[0m \u001b[0mget_shared_bigrams_pcnt\u001b[0m\u001b[0;34m,\u001b[0m\u001b[0;34m\u001b[0m\u001b[0m\n\u001b[0m\u001b[1;32m      7\u001b[0m     \u001b[0;34m'shared_trigrams'\u001b[0m\u001b[0;34m:\u001b[0m \u001b[0mget_shared_trigrams\u001b[0m\u001b[0;34m,\u001b[0m\u001b[0;34m\u001b[0m\u001b[0m\n\u001b[1;32m      8\u001b[0m     \u001b[0;34m'shared_trigrams_percent'\u001b[0m\u001b[0;34m:\u001b[0m \u001b[0mget_shared_trigrams_pcnt\u001b[0m\u001b[0;34m,\u001b[0m\u001b[0;34m\u001b[0m\u001b[0m\n",
      "\u001b[0;31mNameError\u001b[0m: name 'get_shared_bigrams_pcnt' is not defined"
     ]
    }
   ],
   "source": [
    "FEATURE_FUNCTIONS = {\n",
    "    'last_char': get_last_char,\n",
    "    'avg_shared_words': get_shared_words,\n",
    "    'shared_word_percent': shared_word_pcnt,\n",
    "    'shared_bigrams': get_shared_bigrams,\n",
    "    'shared_bigrams_percent': get_shared_bigrams_pcnt,\n",
    "    'shared_trigrams': get_shared_trigrams,\n",
    "    'shared_trigrams_percent': get_shared_trigrams_pcnt,\n",
    "    'shared_quadgrams': get_shared_quadgrams,\n",
    "    'shared_quadgrams_percent': get_shared_quadgrams_pcnt,\n",
    "    'shared_entities': get_shared_entities,\n",
    "    'word_count_diff': get_word_count_diff,\n",
    "    'levenshtein': get_levenshtein_distance,\n",
    "    'get_tfidf': get_tfidf,\n",
    "}\n",
    "\n",
    "def get_features(df, feature_list):\n",
    "    \"\"\"\n",
    "    Convenience method to extract text features in the same way independent of the \n",
    "    dataframe. Ideally this method will be called with a list of feature names as\n",
    "    a list, which will also work as column names to limit any dataframe to the relevant\n",
    "    features.\n",
    "    \n",
    "    Hint: As pandas dataframes are merely pointers, we can get away with not returning\n",
    "          the manipulated dataframe as every instance of df will already be affected.\n",
    "    \n",
    "    Parameters\n",
    "        df: dataframe the features will be extracted from\n",
    "        feature_list: list object, containing all features as strings\n",
    "        \n",
    "    Returns\n",
    "        none: dataframe object is already manipulated and is not needed to be passed back\n",
    "    \"\"\"\n",
    "    for feature in feature_list:\n",
    "        logging.info('getting {}'.format(feature))\n",
    "        FEATURE_FUNCTIONS[feature](df)\n",
    "    logging.info('feature extraction done')"
   ]
  },
  {
   "cell_type": "code",
   "execution_count": 153,
   "metadata": {},
   "outputs": [
    {
     "name": "stderr",
     "output_type": "stream",
     "text": [
      "INFO:root:getting shared_quadgrams\n"
     ]
    },
    {
     "data": {
      "application/vnd.jupyter.widget-view+json": {
       "model_id": "539869eefc1b4c14a2372daf026231b3"
      }
     },
     "metadata": {},
     "output_type": "display_data"
    },
    {
     "name": "stderr",
     "output_type": "stream",
     "text": [
      "INFO:root:getting shared_quadgrams_percent\n"
     ]
    },
    {
     "name": "stdout",
     "output_type": "stream",
     "text": [
      "\n"
     ]
    },
    {
     "data": {
      "application/vnd.jupyter.widget-view+json": {
       "model_id": "00b128302f6c4d30a2bf96bfc701a793"
      }
     },
     "metadata": {},
     "output_type": "display_data"
    },
    {
     "name": "stderr",
     "output_type": "stream",
     "text": [
      "INFO:root:feature extraction done\n"
     ]
    },
    {
     "name": "stdout",
     "output_type": "stream",
     "text": [
      "\n"
     ]
    },
    {
     "data": {
      "text/html": [
       "<div>\n",
       "<style>\n",
       "    .dataframe thead tr:only-child th {\n",
       "        text-align: right;\n",
       "    }\n",
       "\n",
       "    .dataframe thead th {\n",
       "        text-align: left;\n",
       "    }\n",
       "\n",
       "    .dataframe tbody tr th {\n",
       "        vertical-align: top;\n",
       "    }\n",
       "</style>\n",
       "<table border=\"1\" class=\"dataframe\">\n",
       "  <thead>\n",
       "    <tr style=\"text-align: right;\">\n",
       "      <th></th>\n",
       "      <th>test_id</th>\n",
       "      <th>question1</th>\n",
       "      <th>question2</th>\n",
       "      <th>avg_shared_bigrams</th>\n",
       "      <th>shared_bigram_pcnt</th>\n",
       "      <th>avg_shared_trigrams</th>\n",
       "      <th>shared_trigram_pcnt</th>\n",
       "      <th>avg_shared_quadgrams</th>\n",
       "      <th>shared_quadgram_pcnt</th>\n",
       "    </tr>\n",
       "  </thead>\n",
       "  <tbody>\n",
       "    <tr>\n",
       "      <th>0</th>\n",
       "      <td>15</td>\n",
       "      <td>What would a Trump presidency mean for current...</td>\n",
       "      <td>How will a Trump presidency affect the student...</td>\n",
       "      <td>2</td>\n",
       "      <td>0.133333</td>\n",
       "      <td>1</td>\n",
       "      <td>0.071429</td>\n",
       "      <td>0</td>\n",
       "      <td>0.0</td>\n",
       "    </tr>\n",
       "    <tr>\n",
       "      <th>1</th>\n",
       "      <td>20</td>\n",
       "      <td>Why do rockets look white?</td>\n",
       "      <td>Why are rockets and boosters painted white?</td>\n",
       "      <td>0</td>\n",
       "      <td>0.000000</td>\n",
       "      <td>0</td>\n",
       "      <td>0.000000</td>\n",
       "      <td>0</td>\n",
       "      <td>0.0</td>\n",
       "    </tr>\n",
       "    <tr>\n",
       "      <th>2</th>\n",
       "      <td>21</td>\n",
       "      <td>What's causing someone to be jealous?</td>\n",
       "      <td>What can I do to avoid being jealous of someone?</td>\n",
       "      <td>0</td>\n",
       "      <td>0.000000</td>\n",
       "      <td>0</td>\n",
       "      <td>0.000000</td>\n",
       "      <td>0</td>\n",
       "      <td>0.0</td>\n",
       "    </tr>\n",
       "    <tr>\n",
       "      <th>3</th>\n",
       "      <td>23</td>\n",
       "      <td>How much is 30 kV in HP?</td>\n",
       "      <td>Where can I find a conversion chart for CC to ...</td>\n",
       "      <td>0</td>\n",
       "      <td>0.000000</td>\n",
       "      <td>0</td>\n",
       "      <td>0.000000</td>\n",
       "      <td>0</td>\n",
       "      <td>0.0</td>\n",
       "    </tr>\n",
       "    <tr>\n",
       "      <th>4</th>\n",
       "      <td>34</td>\n",
       "      <td>What is the best travel website in spain?</td>\n",
       "      <td>What is the best travel website?</td>\n",
       "      <td>4</td>\n",
       "      <td>0.666667</td>\n",
       "      <td>3</td>\n",
       "      <td>0.600000</td>\n",
       "      <td>2</td>\n",
       "      <td>0.5</td>\n",
       "    </tr>\n",
       "  </tbody>\n",
       "</table>\n",
       "</div>"
      ],
      "text/plain": [
       "   test_id                                          question1  \\\n",
       "0       15  What would a Trump presidency mean for current...   \n",
       "1       20                         Why do rockets look white?   \n",
       "2       21              What's causing someone to be jealous?   \n",
       "3       23                           How much is 30 kV in HP?   \n",
       "4       34          What is the best travel website in spain?   \n",
       "\n",
       "                                           question2  avg_shared_bigrams  \\\n",
       "0  How will a Trump presidency affect the student...                   2   \n",
       "1        Why are rockets and boosters painted white?                   0   \n",
       "2   What can I do to avoid being jealous of someone?                   0   \n",
       "3  Where can I find a conversion chart for CC to ...                   0   \n",
       "4                   What is the best travel website?                   4   \n",
       "\n",
       "   shared_bigram_pcnt  avg_shared_trigrams  shared_trigram_pcnt  \\\n",
       "0            0.133333                    1             0.071429   \n",
       "1            0.000000                    0             0.000000   \n",
       "2            0.000000                    0             0.000000   \n",
       "3            0.000000                    0             0.000000   \n",
       "4            0.666667                    3             0.600000   \n",
       "\n",
       "   avg_shared_quadgrams  shared_quadgram_pcnt  \n",
       "0                     0                   0.0  \n",
       "1                     0                   0.0  \n",
       "2                     0                   0.0  \n",
       "3                     0                   0.0  \n",
       "4                     2                   0.5  "
      ]
     },
     "execution_count": 153,
     "metadata": {},
     "output_type": "execute_result"
    }
   ],
   "source": [
    "# === Example 1 ===\n",
    "get_features(df_test, ['last_char', 'avg_shared_words', 'word_count_diff', 'shared_entities', 'levenshtein', 'shared_word_percent'])\n",
    "df_test.head()"
   ]
  },
  {
   "cell_type": "code",
   "execution_count": 142,
   "metadata": {},
   "outputs": [
    {
     "name": "stderr",
     "output_type": "stream",
     "text": [
      "INFO:root:getting shared_entities\n",
      "INFO:root:converting entity 1 string representation to dictionaries\n"
     ]
    },
    {
     "data": {
      "application/vnd.jupyter.widget-view+json": {
       "model_id": "dafd7c0a49f4450980534b344e1c3f46",
       "version_major": 2,
       "version_minor": 0
      },
      "text/html": [
       "<p>Failed to display Jupyter Widget of type <code>HBox</code>.</p>\n",
       "<p>\n",
       "  If you're reading this message in the Jupyter Notebook or JupyterLab Notebook, it may mean\n",
       "  that the widgets JavaScript is still loading. If this message persists, it\n",
       "  likely means that the widgets JavaScript library is either not installed or\n",
       "  not enabled. See the <a href=\"https://ipywidgets.readthedocs.io/en/stable/user_install.html\">Jupyter\n",
       "  Widgets Documentation</a> for setup instructions.\n",
       "</p>\n",
       "<p>\n",
       "  If you're reading this message in another frontend (for example, a static\n",
       "  rendering on GitHub or <a href=\"https://nbviewer.jupyter.org/\">NBViewer</a>),\n",
       "  it may mean that your frontend doesn't currently support widgets.\n",
       "</p>\n"
      ],
      "text/plain": [
       "HBox(children=(IntProgress(value=0, max=81126), HTML(value=u'')))"
      ]
     },
     "metadata": {},
     "output_type": "display_data"
    },
    {
     "name": "stderr",
     "output_type": "stream",
     "text": [
      "INFO:root:converting entity 2 string representation to dictionaries\n"
     ]
    },
    {
     "data": {
      "application/vnd.jupyter.widget-view+json": {
       "model_id": "2c212ff44f38469390f3f2a6058d5fc2",
       "version_major": 2,
       "version_minor": 0
      },
      "text/html": [
       "<p>Failed to display Jupyter Widget of type <code>HBox</code>.</p>\n",
       "<p>\n",
       "  If you're reading this message in the Jupyter Notebook or JupyterLab Notebook, it may mean\n",
       "  that the widgets JavaScript is still loading. If this message persists, it\n",
       "  likely means that the widgets JavaScript library is either not installed or\n",
       "  not enabled. See the <a href=\"https://ipywidgets.readthedocs.io/en/stable/user_install.html\">Jupyter\n",
       "  Widgets Documentation</a> for setup instructions.\n",
       "</p>\n",
       "<p>\n",
       "  If you're reading this message in another frontend (for example, a static\n",
       "  rendering on GitHub or <a href=\"https://nbviewer.jupyter.org/\">NBViewer</a>),\n",
       "  it may mean that your frontend doesn't currently support widgets.\n",
       "</p>\n"
      ],
      "text/plain": [
       "HBox(children=(IntProgress(value=0, max=81126), HTML(value=u'')))"
      ]
     },
     "metadata": {},
     "output_type": "display_data"
    },
    {
     "name": "stderr",
     "output_type": "stream",
     "text": [
      "INFO:root:looking up shared entities\n"
     ]
    },
    {
     "data": {
      "application/vnd.jupyter.widget-view+json": {
       "model_id": "3d870461b04d4e1ca520c89419d1c97a",
       "version_major": 2,
       "version_minor": 0
      },
      "text/html": [
       "<p>Failed to display Jupyter Widget of type <code>HBox</code>.</p>\n",
       "<p>\n",
       "  If you're reading this message in the Jupyter Notebook or JupyterLab Notebook, it may mean\n",
       "  that the widgets JavaScript is still loading. If this message persists, it\n",
       "  likely means that the widgets JavaScript library is either not installed or\n",
       "  not enabled. See the <a href=\"https://ipywidgets.readthedocs.io/en/stable/user_install.html\">Jupyter\n",
       "  Widgets Documentation</a> for setup instructions.\n",
       "</p>\n",
       "<p>\n",
       "  If you're reading this message in another frontend (for example, a static\n",
       "  rendering on GitHub or <a href=\"https://nbviewer.jupyter.org/\">NBViewer</a>),\n",
       "  it may mean that your frontend doesn't currently support widgets.\n",
       "</p>\n"
      ],
      "text/plain": [
       "HBox(children=(IntProgress(value=0, max=81126), HTML(value=u'')))"
      ]
     },
     "metadata": {},
     "output_type": "display_data"
    },
    {
     "name": "stderr",
     "output_type": "stream",
     "text": [
      "INFO:root:feature extraction done\n"
     ]
    },
    {
     "data": {
      "text/html": [
       "<div>\n",
       "<style scoped>\n",
       "    .dataframe tbody tr th:only-of-type {\n",
       "        vertical-align: middle;\n",
       "    }\n",
       "\n",
       "    .dataframe tbody tr th {\n",
       "        vertical-align: top;\n",
       "    }\n",
       "\n",
       "    .dataframe thead th {\n",
       "        text-align: right;\n",
       "    }\n",
       "</style>\n",
       "<table border=\"1\" class=\"dataframe\">\n",
       "  <thead>\n",
       "    <tr style=\"text-align: right;\">\n",
       "      <th></th>\n",
       "      <th>Unnamed: 0</th>\n",
       "      <th>test_id</th>\n",
       "      <th>question1</th>\n",
       "      <th>question2</th>\n",
       "      <th>entities1</th>\n",
       "      <th>entities2</th>\n",
       "      <th>similarity_score</th>\n",
       "      <th>shared_entities</th>\n",
       "    </tr>\n",
       "  </thead>\n",
       "  <tbody>\n",
       "    <tr>\n",
       "      <th>0</th>\n",
       "      <td>0</td>\n",
       "      <td>15</td>\n",
       "      <td>invalid</td>\n",
       "      <td>How will a Trump presidency affect the student...</td>\n",
       "      <td>None</td>\n",
       "      <td>{u'ORG': 1, u'GPE': 2}</td>\n",
       "      <td>0.235347</td>\n",
       "      <td>0</td>\n",
       "    </tr>\n",
       "    <tr>\n",
       "      <th>1</th>\n",
       "      <td>1</td>\n",
       "      <td>20</td>\n",
       "      <td>Why do rockets look white?</td>\n",
       "      <td>Why are rockets and boosters painted white?</td>\n",
       "      <td>None</td>\n",
       "      <td>None</td>\n",
       "      <td>0.892270</td>\n",
       "      <td>0</td>\n",
       "    </tr>\n",
       "    <tr>\n",
       "      <th>2</th>\n",
       "      <td>2</td>\n",
       "      <td>21</td>\n",
       "      <td>What's causing someone to be jealous?</td>\n",
       "      <td>What can I do to avoid being jealous of someone?</td>\n",
       "      <td>None</td>\n",
       "      <td>None</td>\n",
       "      <td>0.956441</td>\n",
       "      <td>0</td>\n",
       "    </tr>\n",
       "    <tr>\n",
       "      <th>3</th>\n",
       "      <td>3</td>\n",
       "      <td>23</td>\n",
       "      <td>How much is 30 kV in HP?</td>\n",
       "      <td>Where can I find a conversion chart for CC to ...</td>\n",
       "      <td>{u'PRODUCT': 1, u'QUANTITY': 1}</td>\n",
       "      <td>{u'ORG': 1}</td>\n",
       "      <td>0.835993</td>\n",
       "      <td>0</td>\n",
       "    </tr>\n",
       "    <tr>\n",
       "      <th>4</th>\n",
       "      <td>4</td>\n",
       "      <td>34</td>\n",
       "      <td>What is the best travel website in spain?</td>\n",
       "      <td>What is the best travel website?</td>\n",
       "      <td>{u'GPE': 1}</td>\n",
       "      <td>None</td>\n",
       "      <td>0.968766</td>\n",
       "      <td>0</td>\n",
       "    </tr>\n",
       "  </tbody>\n",
       "</table>\n",
       "</div>"
      ],
      "text/plain": [
       "   Unnamed: 0  test_id                                  question1  \\\n",
       "0           0       15                                    invalid   \n",
       "1           1       20                 Why do rockets look white?   \n",
       "2           2       21      What's causing someone to be jealous?   \n",
       "3           3       23                   How much is 30 kV in HP?   \n",
       "4           4       34  What is the best travel website in spain?   \n",
       "\n",
       "                                           question2  \\\n",
       "0  How will a Trump presidency affect the student...   \n",
       "1        Why are rockets and boosters painted white?   \n",
       "2   What can I do to avoid being jealous of someone?   \n",
       "3  Where can I find a conversion chart for CC to ...   \n",
       "4                   What is the best travel website?   \n",
       "\n",
       "                         entities1               entities2  similarity_score  \\\n",
       "0                             None  {u'ORG': 1, u'GPE': 2}          0.235347   \n",
       "1                             None                    None          0.892270   \n",
       "2                             None                    None          0.956441   \n",
       "3  {u'PRODUCT': 1, u'QUANTITY': 1}             {u'ORG': 1}          0.835993   \n",
       "4                      {u'GPE': 1}                    None          0.968766   \n",
       "\n",
       "   shared_entities  \n",
       "0                0  \n",
       "1                0  \n",
       "2                0  \n",
       "3                0  \n",
       "4                0  "
      ]
     },
     "execution_count": 142,
     "metadata": {},
     "output_type": "execute_result"
    }
   ],
   "source": [
    "# === Example 2 ===\n",
    "df_ents = pd.read_csv('data/test_with_sim_and_ents.csv')\n",
    "get_features(df_ents, ['shared_entities'])\n",
    "df_ents.head()"
   ]
  },
  {
   "cell_type": "markdown",
   "metadata": {},
   "source": [
    "## Features"
   ]
  },
  {
   "cell_type": "markdown",
   "metadata": {
    "collapsed": true
   },
   "source": [
    "### Last Character"
   ]
  },
  {
   "cell_type": "code",
   "execution_count": 163,
   "metadata": {
    "collapsed": true
   },
   "outputs": [],
   "source": [
    "def get_last_char(df):\n",
    "    df['last_char'] = np.where(df.question1.str[-1:] == df.question2.str[-1:], 1, 0)"
   ]
  },
  {
   "cell_type": "markdown",
   "metadata": {
    "collapsed": true
   },
   "source": [
    "### Avg. Shared Words"
   ]
  },
  {
   "cell_type": "code",
   "execution_count": 164,
   "metadata": {
    "collapsed": true
   },
   "outputs": [],
   "source": [
    "# TODO: remove punctuation\n",
    "\n",
    "def shared_word_count(q1, q2):\n",
    "    return len([w for w in lower_list(q1.split(' ')) if w in lower_list(q2.split(' '))])\n",
    "\n",
    "def get_shared_words(df):\n",
    "    df['avg_shared_words'] = df.progress_apply(lambda row: shared_word_count(row['question1'],                                                                         \n",
    "                                                                             row['question2']), axis=1)\n",
    "    \n",
    "# Shared word percentage (0-100%)   \n",
    "def avg_word_count(q1, q2):\n",
    "    return (len(lower_list(q1.split(' '))) + len(lower_list(q2.split(' '))))/2.0\n",
    "    \n",
    "def shared_word_pcnt(df):\n",
    "    df['shared_words_pcnt'] = df.progress_apply(lambda row: shared_word_count(row['question1'], row['question2']) / avg_word_count(row['question1'], row['question2']), axis=1)    \n",
    "    "
   ]
  },
  {
   "cell_type": "markdown",
   "metadata": {},
   "source": [
    "### Shared ngrams"
   ]
  },
  {
   "cell_type": "code",
   "execution_count": 169,
   "metadata": {
    "collapsed": true
   },
   "outputs": [],
   "source": [
    "def shared_ngram_count(q1, q2, n):\n",
    "    return len([w for w in ngrams(lower_list(q1.split(' ')), n) if w in ngrams(lower_list(q2.split(' ')), n)])\n",
    "\n",
    "def get_shared_ngrams(df, n):\n",
    "    df['avg_shared_{}grams'.format(n)] = df.progress_apply(lambda row: shared_bigram_count(row['question1'], row['question2']), axis=1)\n",
    "\n",
    "# percentage\n",
    "def ngram_count(q1, q2, n):\n",
    "    cnt = ((len([x for x in ngrams(lower_list(q1.split(' ')), n)]) + len([x for x in ngrams(lower_list(q2.split(' ')), n)])) / 2.0)\n",
    "    return cnt if cnt > 0 else 1\n",
    "            \n",
    "def shared_ngram_pcnt(df, n):\n",
    "    df['shared_{}grams_pcnt'.format(n)] = df.progress_apply(lambda row: shared_ngram_count(row['question1'], row['question2'], n) / ngram_count(row['question1'], row['question2'], n), axis=1) "
   ]
  },
  {
   "cell_type": "code",
   "execution_count": 170,
   "metadata": {
    "collapsed": true
   },
   "outputs": [],
   "source": [
    "def get_shared_bigrams(df):\n",
    "    get_shared_ngrams(df, 2)\n",
    "\n",
    "def get_shared_bigrams_pcnt(df):\n",
    "    shared_ngram_pcnt(df, 2)\n",
    "    \n",
    "def get_shared_trigrams(df):\n",
    "    get_shared_ngrams(df, 3)\n",
    "\n",
    "def get_shared_trigrams_pcnt(df):\n",
    "    shared_ngram_pcnt(df, 3)\n",
    "    \n",
    "def get_shared_quadgrams(df):\n",
    "    get_shared_ngrams(df, 4)\n",
    "\n",
    "def get_shared_quadgrams_pcnt(df):\n",
    "    shared_ngram_pcnt(df, 4)"
   ]
  },
  {
   "cell_type": "markdown",
   "metadata": {
    "collapsed": true
   },
   "source": [
    "### Shared Entities"
   ]
  },
  {
   "cell_type": "code",
   "execution_count": 171,
   "metadata": {
    "collapsed": true
   },
   "outputs": [],
   "source": [
    "ENTITIES = {u'CARDINAL', u'DATE', u'EVENT', u'FAC', u'GPE', u'LANGUAGE', u'LAW', u'LOC', u'MONEY', u'NORP', u'ORDINAL',\n",
    "            u'ORG', u'PERCENT', u'PERSON', u'PRODUCT', u'QUANTITY', u'TIME', u'WORK_OF_ART'}"
   ]
  },
  {
   "cell_type": "code",
   "execution_count": 172,
   "metadata": {
    "collapsed": true
   },
   "outputs": [],
   "source": [
    "# TODO: Shared entities with half counts\n",
    "# TODO: Name the entities, if type matches, but instance is different it will be a good indicator\n",
    "\n",
    "def shared_keys(d1, d2):\n",
    "    d1 = {} if not isinstance(d1, dict) else d1\n",
    "    d2 = {} if not isinstance(d2, dict) else d2\n",
    "    return len([w for w in d1.keys() if w in d2.keys()])\n",
    "\n",
    "def get_shared_entities(df):\n",
    "    if 'entities1' not in df.columns or 'entities2' not in df.columns:\n",
    "        logging.warning('No entity dicts found in provided dataframe')\n",
    "        return\n",
    "    if isinstance(df.entities1[df.entities1.first_valid_index()], str):\n",
    "        logging.info('converting entity 1 string representation to dictionaries')\n",
    "        df.entities1 = df.entities1.progress_apply(lambda x: string_to_dict(x))\n",
    "    if isinstance(df.entities2[df.entities2.first_valid_index()], str):\n",
    "        logging.info('converting entity 2 string representation to dictionaries')\n",
    "        df.entities2 = df.entities2.progress_apply(lambda x: string_to_dict(x))\n",
    "    \n",
    "    logging.info('looking up shared entities')\n",
    "    df['shared_entities'] = df.progress_apply(lambda row: shared_keys(row['entities1'], \n",
    "                                                                      row['entities2']), axis=1)"
   ]
  },
  {
   "cell_type": "markdown",
   "metadata": {
    "collapsed": true
   },
   "source": [
    "### Word Count Diff"
   ]
  },
  {
   "cell_type": "code",
   "execution_count": 173,
   "metadata": {
    "collapsed": true
   },
   "outputs": [],
   "source": [
    "def count_diff(q1, q2):\n",
    "    return abs(len(q1.split(' ')) - len(q2.split(' ')))\n",
    "\n",
    "def get_word_count_diff(df):\n",
    "    df['word_count_diff'] = df.progress_apply(lambda row: count_diff(row['question1'], \n",
    "                                                                     row['question2']), axis=1)"
   ]
  },
  {
   "cell_type": "markdown",
   "metadata": {
    "collapsed": true
   },
   "source": [
    "### Levenshtein Distance"
   ]
  },
  {
   "cell_type": "code",
   "execution_count": 174,
   "metadata": {
    "collapsed": true
   },
   "outputs": [],
   "source": [
    "def get_levenshtein_distance(df):\n",
    "    # TODO: discuss if spaces should be considered in the distance calculation, add 'lambda x: x == \" \"' as first parameter to exclude spaces\n",
    "    df['levenshtein'] = df.progress_apply(lambda row: difflib.SequenceMatcher(None, \n",
    "                                                                              row['question1'], \n",
    "                                                                              row['question2']).ratio(), axis=1)"
   ]
  },
  {
   "cell_type": "markdown",
   "metadata": {},
   "source": [
    "## Tf-Idf"
   ]
  },
  {
   "cell_type": "code",
   "execution_count": 178,
   "metadata": {},
   "outputs": [],
   "source": [
    "# FIXME: code mostly copied, only adjusted the punctuation, stopwords and empty strings\n",
    "\n",
    "from collections import Counter\n",
    "def get_weights(df):\n",
    "# If a word appears only once, we ignore it completely (likely a typo)\n",
    "# Epsilon defines a smoothing constant, which makes the effect of extremely rare words smaller\n",
    "    def get_weight(count, eps=10000, min_count=2):\n",
    "        if count < min_count:\n",
    "            return 0.0\n",
    "        else:\n",
    "            return 1.0 / (count + eps)\n",
    "\n",
    "    eps = 5000 \n",
    "    words = (\" \".join(list(df.question1) + list(df.question2))).lower().split()\n",
    "    words = [remove_punctuation(w) for w in words]\n",
    "    words = [w if w not in STOPWORDS else '' for w in words]\n",
    "    words = filter(None, words)  # filter out empty strings\n",
    "    counts = Counter(words)\n",
    "    weights = {word: get_weight(count, eps) for word, count in counts.items()}\n",
    "    return weights\n",
    "    # print('Most common words and weights: \\n')\n",
    "    # print(sorted(weights.items(), key=lambda x: x[1] if x[1] > 0 else 9999)[:10])\n",
    "    # print('\\nLeast common words and weights: ')\n",
    "    # (sorted(weights.items(), key=lambda x: x[1], reverse=True)[:10])"
   ]
  },
  {
   "cell_type": "code",
   "execution_count": 177,
   "metadata": {
    "collapsed": true
   },
   "outputs": [],
   "source": [
    "# FIXME: code copied\n",
    "\n",
    "def tfidf_word_match_share(row, weights):\n",
    "    q1words = {}\n",
    "    q2words = {}\n",
    "    for word in str(row['question1']).lower().split():\n",
    "        if word not in STOPWORDS:\n",
    "            q1words[word] = 1\n",
    "    for word in str(row['question2']).lower().split():\n",
    "        if word not in STOPWORDS:\n",
    "            q2words[word] = 1\n",
    "    if len(q1words) == 0 or len(q2words) == 0:\n",
    "        # The computer-generated chaff includes a few questions that are nothing but stopwords\n",
    "        return 0\n",
    " \n",
    "    shared_weights = [weights.get(w, 0) for w in q1words.keys() if w in q2words] + [weights.get(w, 0) for w in q2words.keys() if w in q1words]\n",
    "    total_weights = [weights.get(w, 0) for w in q1words] + [weights.get(w, 0) for w in q2words]\n",
    "    \n",
    "    R = np.sum(shared_weights) / np.sum(total_weights)\n",
    "    return R\n",
    "\n",
    "def get_tfidf(df):\n",
    "    weights = get_weights(df)\n",
    "    df['tfidf_word_match_share'] = df.progress_apply(lambda row: tfidf_word_match_share(row, weights), axis=1)"
   ]
  },
  {
   "cell_type": "markdown",
   "metadata": {},
   "source": [
    "## Helpers"
   ]
  },
  {
   "cell_type": "code",
   "execution_count": 179,
   "metadata": {
    "collapsed": true
   },
   "outputs": [],
   "source": [
    "def lower_list(_list):\n",
    "    return [x.lower() for x in remove_punctuation(_list)]"
   ]
  },
  {
   "cell_type": "code",
   "execution_count": 180,
   "metadata": {
    "collapsed": true
   },
   "outputs": [],
   "source": [
    "def string_to_dict(dict_string):\n",
    "    if isinstance(dict_string, str):\n",
    "        # Convert to proper json format\n",
    "        dict_string = dict_string.replace(\"'\", '\"').replace('u\"', '\"')\n",
    "        return json.loads(dict_string)"
   ]
  },
  {
   "cell_type": "code",
   "execution_count": 181,
   "metadata": {
    "collapsed": true
   },
   "outputs": [],
   "source": [
    "def remove_punctuation(string_):\n",
    "    return string_.translate(None, string.punctuation)"
   ]
  },
  {
   "cell_type": "markdown",
   "metadata": {},
   "source": [
    "## Export"
   ]
  },
  {
   "cell_type": "code",
   "execution_count": 103,
   "metadata": {
    "collapsed": true
   },
   "outputs": [],
   "source": [
    "methods_ = [\n",
    "    'last_char',\n",
    "    'avg_shared_words',\n",
    "    'word_count_diff',\n",
    "    'shared_entities',\n",
    "    'levenshtein',\n",
    "    'shared_word_percent',\n",
    "    'shared_bigrams',\n",
    "    'shared_bigrams_percent',\n",
    "    'shared_trigrams',\n",
    "    'shared_trigrams_percent',\n",
    "    'shared_quadgrams',\n",
    "    'shared_quadgrams_percent',\n",
    "    'get_tfidf',\n",
    "]"
   ]
  },
  {
   "cell_type": "code",
   "execution_count": 157,
   "metadata": {},
   "outputs": [
    {
     "name": "stderr",
     "output_type": "stream",
     "text": [
      "INFO:root:getting last_char\n",
      "INFO:root:getting avg_shared_words\n"
     ]
    },
    {
     "data": {
      "application/vnd.jupyter.widget-view+json": {
       "model_id": "3926c1fa81684c208c1bfdd6328d0a74"
      }
     },
     "metadata": {},
     "output_type": "display_data"
    },
    {
     "name": "stderr",
     "output_type": "stream",
     "text": [
      "INFO:root:getting word_count_diff\n"
     ]
    },
    {
     "name": "stdout",
     "output_type": "stream",
     "text": [
      "\n"
     ]
    },
    {
     "data": {
      "application/vnd.jupyter.widget-view+json": {
       "model_id": "2157f94f4d334aa383a3717c1e1ea80f"
      }
     },
     "metadata": {},
     "output_type": "display_data"
    },
    {
     "name": "stderr",
     "output_type": "stream",
     "text": [
      "INFO:root:getting shared_entities\n",
      "WARNING:root:No entity dicts found in provided dataframe\n",
      "INFO:root:getting levenshtein\n"
     ]
    },
    {
     "name": "stdout",
     "output_type": "stream",
     "text": [
      "\n"
     ]
    },
    {
     "data": {
      "application/vnd.jupyter.widget-view+json": {
       "model_id": "792e26106e2c4629b70af7ed83d528c2"
      }
     },
     "metadata": {},
     "output_type": "display_data"
    },
    {
     "name": "stderr",
     "output_type": "stream",
     "text": [
      "INFO:root:getting shared_word_percent\n"
     ]
    },
    {
     "name": "stdout",
     "output_type": "stream",
     "text": [
      "\n"
     ]
    },
    {
     "data": {
      "application/vnd.jupyter.widget-view+json": {
       "model_id": "ba4e45cd199847d1b94f1142116bda51"
      }
     },
     "metadata": {},
     "output_type": "display_data"
    },
    {
     "name": "stderr",
     "output_type": "stream",
     "text": [
      "INFO:root:getting shared_bigrams\n"
     ]
    },
    {
     "name": "stdout",
     "output_type": "stream",
     "text": [
      "\n"
     ]
    },
    {
     "data": {
      "application/vnd.jupyter.widget-view+json": {
       "model_id": "06c8e92258004d91827d5bcc32592e72"
      }
     },
     "metadata": {},
     "output_type": "display_data"
    },
    {
     "name": "stderr",
     "output_type": "stream",
     "text": [
      "INFO:root:getting shared_bigrams_percent\n"
     ]
    },
    {
     "name": "stdout",
     "output_type": "stream",
     "text": [
      "\n"
     ]
    },
    {
     "data": {
      "application/vnd.jupyter.widget-view+json": {
       "model_id": "6ce65ca6b7b04578a3e7939ba0503148"
      }
     },
     "metadata": {},
     "output_type": "display_data"
    },
    {
     "name": "stderr",
     "output_type": "stream",
     "text": [
      "INFO:root:getting shared_trigrams\n"
     ]
    },
    {
     "name": "stdout",
     "output_type": "stream",
     "text": [
      "\n"
     ]
    },
    {
     "data": {
      "application/vnd.jupyter.widget-view+json": {
       "model_id": "30479b2c2dfa41dc81a0a37fbbf08a27"
      }
     },
     "metadata": {},
     "output_type": "display_data"
    },
    {
     "name": "stderr",
     "output_type": "stream",
     "text": [
      "INFO:root:getting shared_trigrams_percent\n"
     ]
    },
    {
     "name": "stdout",
     "output_type": "stream",
     "text": [
      "\n"
     ]
    },
    {
     "data": {
      "application/vnd.jupyter.widget-view+json": {
       "model_id": "508953d5135d4a538b9a1b7b450e85e5"
      }
     },
     "metadata": {},
     "output_type": "display_data"
    },
    {
     "name": "stderr",
     "output_type": "stream",
     "text": [
      "INFO:root:getting shared_quadgrams\n"
     ]
    },
    {
     "name": "stdout",
     "output_type": "stream",
     "text": [
      "\n"
     ]
    },
    {
     "data": {
      "application/vnd.jupyter.widget-view+json": {
       "model_id": "4a3a9da5cfe3475883bedb9a4e6d2bde"
      }
     },
     "metadata": {},
     "output_type": "display_data"
    },
    {
     "name": "stderr",
     "output_type": "stream",
     "text": [
      "INFO:root:getting shared_quadgrams_percent\n"
     ]
    },
    {
     "name": "stdout",
     "output_type": "stream",
     "text": [
      "\n"
     ]
    },
    {
     "data": {
      "application/vnd.jupyter.widget-view+json": {
       "model_id": "770ad25a27e240849004000f741468d5"
      }
     },
     "metadata": {},
     "output_type": "display_data"
    },
    {
     "name": "stderr",
     "output_type": "stream",
     "text": [
      "INFO:root:feature extraction done\n"
     ]
    },
    {
     "name": "stdout",
     "output_type": "stream",
     "text": [
      "\n"
     ]
    },
    {
     "name": "stderr",
     "output_type": "stream",
     "text": [
      "INFO:root:getting last_char\n",
      "INFO:root:getting avg_shared_words\n"
     ]
    },
    {
     "data": {
      "application/vnd.jupyter.widget-view+json": {
       "model_id": "fad4eeece9f4466d875de26c1a85a608"
      }
     },
     "metadata": {},
     "output_type": "display_data"
    },
    {
     "name": "stderr",
     "output_type": "stream",
     "text": [
      "INFO:root:getting word_count_diff\n"
     ]
    },
    {
     "name": "stdout",
     "output_type": "stream",
     "text": [
      "\n"
     ]
    },
    {
     "data": {
      "application/vnd.jupyter.widget-view+json": {
       "model_id": "dfb9908daa614e058f84d8df32ed52a0"
      }
     },
     "metadata": {},
     "output_type": "display_data"
    },
    {
     "name": "stderr",
     "output_type": "stream",
     "text": [
      "INFO:root:getting shared_entities\n",
      "WARNING:root:No entity dicts found in provided dataframe\n",
      "INFO:root:getting levenshtein\n"
     ]
    },
    {
     "name": "stdout",
     "output_type": "stream",
     "text": [
      "\n"
     ]
    },
    {
     "data": {
      "application/vnd.jupyter.widget-view+json": {
       "model_id": "6561bb9461ee4022ba1fb5016512d37f"
      }
     },
     "metadata": {},
     "output_type": "display_data"
    },
    {
     "name": "stderr",
     "output_type": "stream",
     "text": [
      "INFO:root:getting shared_word_percent\n"
     ]
    },
    {
     "name": "stdout",
     "output_type": "stream",
     "text": [
      "\n"
     ]
    },
    {
     "data": {
      "application/vnd.jupyter.widget-view+json": {
       "model_id": "f9c12f8a49094592912dfcee970acc9c"
      }
     },
     "metadata": {},
     "output_type": "display_data"
    },
    {
     "name": "stderr",
     "output_type": "stream",
     "text": [
      "INFO:root:getting shared_bigrams\n"
     ]
    },
    {
     "name": "stdout",
     "output_type": "stream",
     "text": [
      "\n"
     ]
    },
    {
     "data": {
      "application/vnd.jupyter.widget-view+json": {
       "model_id": "7edc352dcbbb458fab21307d202638b3"
      }
     },
     "metadata": {},
     "output_type": "display_data"
    },
    {
     "name": "stderr",
     "output_type": "stream",
     "text": [
      "INFO:root:getting shared_bigrams_percent\n"
     ]
    },
    {
     "name": "stdout",
     "output_type": "stream",
     "text": [
      "\n"
     ]
    },
    {
     "data": {
      "application/vnd.jupyter.widget-view+json": {
       "model_id": "6120597a921d40f6b3479b743fcc9baa"
      }
     },
     "metadata": {},
     "output_type": "display_data"
    },
    {
     "name": "stderr",
     "output_type": "stream",
     "text": [
      "INFO:root:getting shared_trigrams\n"
     ]
    },
    {
     "name": "stdout",
     "output_type": "stream",
     "text": [
      "\n"
     ]
    },
    {
     "data": {
      "application/vnd.jupyter.widget-view+json": {
       "model_id": "a0ad61e4d88243f6996f51ef9ca71bb6"
      }
     },
     "metadata": {},
     "output_type": "display_data"
    },
    {
     "name": "stderr",
     "output_type": "stream",
     "text": [
      "INFO:root:getting shared_trigrams_percent\n"
     ]
    },
    {
     "name": "stdout",
     "output_type": "stream",
     "text": [
      "\n"
     ]
    },
    {
     "data": {
      "application/vnd.jupyter.widget-view+json": {
       "model_id": "c0d804d04c7645718df5b1e021f37582"
      }
     },
     "metadata": {},
     "output_type": "display_data"
    },
    {
     "name": "stderr",
     "output_type": "stream",
     "text": [
      "INFO:root:getting shared_quadgrams\n"
     ]
    },
    {
     "name": "stdout",
     "output_type": "stream",
     "text": [
      "\n"
     ]
    },
    {
     "data": {
      "application/vnd.jupyter.widget-view+json": {
       "model_id": "88b6730445e14cbaa6e3fa5f01e3102c"
      }
     },
     "metadata": {},
     "output_type": "display_data"
    },
    {
     "name": "stderr",
     "output_type": "stream",
     "text": [
      "INFO:root:getting shared_quadgrams_percent\n"
     ]
    },
    {
     "name": "stdout",
     "output_type": "stream",
     "text": [
      "\n"
     ]
    },
    {
     "data": {
      "application/vnd.jupyter.widget-view+json": {
       "model_id": "473291ef7bbe45ac82e570ae268f9fef"
      }
     },
     "metadata": {},
     "output_type": "display_data"
    },
    {
     "name": "stderr",
     "output_type": "stream",
     "text": [
      "INFO:root:feature extraction done\n"
     ]
    },
    {
     "name": "stdout",
     "output_type": "stream",
     "text": [
      "\n"
     ]
    }
   ],
   "source": [
    "# train_data\n",
    "get_features(df_train, methods_)\n",
    "df_train.to_csv(\"train_features.csv\", index=False)\n",
    "\n",
    "# test_data\n",
    "get_features(df_test, methods_)\n",
    "df_test.to_csv(\"test_features.csv\", index=False)"
   ]
  },
  {
   "cell_type": "code",
   "execution_count": null,
   "metadata": {
    "collapsed": true
   },
   "outputs": [],
   "source": []
  }
 ],
 "metadata": {
  "kernelspec": {
   "display_name": "Python 2",
   "language": "python",
   "name": "python2"
  },
  "language_info": {
   "codemirror_mode": {
    "name": "ipython",
    "version": 2
   },
   "file_extension": ".py",
   "mimetype": "text/x-python",
   "name": "python",
   "nbconvert_exporter": "python",
   "pygments_lexer": "ipython2",
   "version": "2.7.13"
  }
 },
 "nbformat": 4,
 "nbformat_minor": 2
}
