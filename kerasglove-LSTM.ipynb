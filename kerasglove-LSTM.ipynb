{
 "cells": [
  {
   "cell_type": "markdown",
   "metadata": {
    "_cell_guid": "1c29b03e-310f-c64d-ed42-f9895c254c41"
   },
   "source": [
    "This script intends to be a starter script for Keras using pre-trained word embeddings.\n",
    "\n",
    "**Word embedding:**\n",
    "\n",
    "[Word embedding][1] is the collective name for a set of language modeling and feature learning techniques in natural language processing (NLP) where words or phrases from the vocabulary are mapped to vectors of real numbers. They are also called as word vectors.\n",
    "\n",
    "Two commonly used word embeddings are:\n",
    "\n",
    "1.  [Google word2vec][2]\n",
    "2. [Stanford Glove][3]\n",
    "\n",
    "In this notebook, we will use the GloVe word vector which is downloaded from [this link][4] \n",
    "\n",
    "Let us first import the necessary packages.\n",
    "\n",
    "\n",
    "  [1]: https://en.wikipedia.org/wiki/Word_embedding\n",
    "  [2]: https://code.google.com/archive/p/word2vec/\n",
    "  [3]: https://nlp.stanford.edu/projects/glove/\n",
    "  [4]: http://nlp.stanford.edu/data/glove.6B.zip"
   ]
  },
  {
   "cell_type": "code",
   "execution_count": 1,
   "metadata": {
    "_cell_guid": "b481b4ef-630f-a5e1-6465-863bb15b8203"
   },
   "outputs": [
    {
     "name": "stderr",
     "output_type": "stream",
     "text": [
      "Using TensorFlow backend.\n"
     ]
    }
   ],
   "source": [
    "import os\n",
    "import csv\n",
    "import codecs\n",
    "import numpy as np\n",
    "import pandas as pd\n",
    "import keras\n",
    "from sklearn.model_selection import train_test_split\n",
    "\n",
    "np.random.seed(1337)\n",
    "\n",
    "from keras.preprocessing.text import Tokenizer\n",
    "from keras.preprocessing.sequence import pad_sequences\n",
    "from keras.utils.np_utils import to_categorical\n",
    "from keras.layers import Dense, Input, Flatten, merge, LSTM, Lambda, Dropout\n",
    "from keras.layers import Conv1D, MaxPooling1D, Embedding\n",
    "from keras.models import Model\n",
    "from keras.layers.wrappers import TimeDistributed, Bidirectional\n",
    "from keras.layers.normalization import BatchNormalization\n",
    "from keras import backend as K\n",
    "import sys\n",
    "from keras.layers.merge import concatenate"
   ]
  },
  {
   "cell_type": "markdown",
   "metadata": {
    "_cell_guid": "dc21f166-ef1f-9afe-25a2-e9d60806130a"
   },
   "source": [
    "Let us specify the constants that are needed for the model.\n",
    "\n",
    " 1. MAX_SEQUENCE_LENGTH : number of words from the question to be used\n",
    " 2. MAX_NB_WORDS : maximum size of the vocabulary\n",
    " 3. EMBEDDING_DIM : dimension of the word embeddings"
   ]
  },
  {
   "cell_type": "code",
   "execution_count": 2,
   "metadata": {
    "_cell_guid": "64678483-0136-5594-4cfc-2441bfd10fd4",
    "collapsed": true
   },
   "outputs": [],
   "source": [
    "BASE_DIR = 'data/'\n",
    "GLOVE_DIR ='/Users/tom/Msc Data Science/Machine Learning/Assignments/Quora/Glove.6B'\n",
    "TRAIN_DATA_FILE = BASE_DIR + 'train_data.csv'\n",
    "TEST_DATA_FILE = BASE_DIR + 'test_data.csv'\n",
    "MAX_SEQUENCE_LENGTH = 30\n",
    "MAX_NB_WORDS = 200000\n",
    "EMBEDDING_DIM = 300\n",
    "VALIDATION_SPLIT = 0.01"
   ]
  },
  {
   "cell_type": "code",
   "execution_count": 3,
   "metadata": {
    "collapsed": true
   },
   "outputs": [],
   "source": [
    "###APPEND LABELS TO TRAINING DATA \n",
    "\n",
    "df_train = pd.read_csv('data/train_data.csv')\n",
    "df_train.drop(['is_duplicate'], axis= 1, inplace = True)\n",
    "df_labels = pd.read_csv('data/train_labels.csv')\n",
    "df_train = df_train.merge(df_labels)\n",
    "\n"
   ]
  },
  {
   "cell_type": "code",
   "execution_count": 4,
   "metadata": {
    "collapsed": true
   },
   "outputs": [],
   "source": [
    "###Create datasets\n",
    "#train, CV = train_test_split(df_train, train_size = 0.8, random_state = 49)\n",
    "train, CV = train_test_split(df_train, train_size = 0.95, random_state = 49)\n",
    "\n",
    "test = pd.read_csv('data/test_data.csv')"
   ]
  },
  {
   "cell_type": "markdown",
   "metadata": {
    "_cell_guid": "ccb2f15f-ba61-4bba-40b3-5fedf9266bc1"
   },
   "source": [
    "As the first step, let us read the word vectors text file into a dictionary where the word is the key and the 300 dimensional vector is its corresponding value.\n",
    "\n",
    "Note : This will throw an error here since the word vectors are not here in Kaggle environment."
   ]
  },
  {
   "cell_type": "code",
   "execution_count": 75,
   "metadata": {
    "_cell_guid": "5dbc03e4-19ca-eb82-194e-1f64613c55c1"
   },
   "outputs": [
    {
     "name": "stdout",
     "output_type": "stream",
     "text": [
      "Indexing word vectors.\n"
     ]
    },
    {
     "ename": "KeyboardInterrupt",
     "evalue": "",
     "output_type": "error",
     "traceback": [
      "\u001b[0;31m---------------------------------------------------------------------------\u001b[0m",
      "\u001b[0;31mKeyboardInterrupt\u001b[0m                         Traceback (most recent call last)",
      "\u001b[0;32m<ipython-input-75-4571453964c8>\u001b[0m in \u001b[0;36m<module>\u001b[0;34m()\u001b[0m\n\u001b[1;32m      1\u001b[0m \u001b[0;32mprint\u001b[0m\u001b[0;34m(\u001b[0m\u001b[0;34m'Indexing word vectors.'\u001b[0m\u001b[0;34m)\u001b[0m\u001b[0;34m\u001b[0m\u001b[0m\n\u001b[0;32m----> 2\u001b[0;31m \u001b[0membeddings_index\u001b[0m \u001b[0;34m=\u001b[0m \u001b[0;34m{\u001b[0m\u001b[0;34m}\u001b[0m\u001b[0;34m\u001b[0m\u001b[0m\n\u001b[0m\u001b[1;32m      3\u001b[0m \u001b[0mf\u001b[0m \u001b[0;34m=\u001b[0m \u001b[0mcodecs\u001b[0m\u001b[0;34m.\u001b[0m\u001b[0mopen\u001b[0m\u001b[0;34m(\u001b[0m\u001b[0mos\u001b[0m\u001b[0;34m.\u001b[0m\u001b[0mpath\u001b[0m\u001b[0;34m.\u001b[0m\u001b[0mjoin\u001b[0m\u001b[0;34m(\u001b[0m\u001b[0mGLOVE_DIR\u001b[0m\u001b[0;34m,\u001b[0m \u001b[0;34m'glove.6B.300d.txt'\u001b[0m\u001b[0;34m)\u001b[0m\u001b[0;34m,\u001b[0m \u001b[0mencoding\u001b[0m\u001b[0;34m=\u001b[0m\u001b[0;34m'utf-8'\u001b[0m\u001b[0;34m)\u001b[0m\u001b[0;34m\u001b[0m\u001b[0m\n\u001b[1;32m      4\u001b[0m \u001b[0;32mfor\u001b[0m \u001b[0mline\u001b[0m \u001b[0;32min\u001b[0m \u001b[0mf\u001b[0m\u001b[0;34m:\u001b[0m\u001b[0;34m\u001b[0m\u001b[0m\n\u001b[1;32m      5\u001b[0m     \u001b[0mvalues\u001b[0m \u001b[0;34m=\u001b[0m \u001b[0mline\u001b[0m\u001b[0;34m.\u001b[0m\u001b[0msplit\u001b[0m\u001b[0;34m(\u001b[0m\u001b[0;34m' '\u001b[0m\u001b[0;34m)\u001b[0m\u001b[0;34m\u001b[0m\u001b[0m\n",
      "\u001b[0;31mKeyboardInterrupt\u001b[0m: "
     ]
    }
   ],
   "source": [
    "print('Indexing word vectors.')\n",
    "embeddings_index = {}\n",
    "f = codecs.open(os.path.join(GLOVE_DIR, 'glove.6B.300d.txt'), encoding='utf-8')\n",
    "for line in f:\n",
    "    values = line.split(' ')\n",
    "    word = values[0]\n",
    "    coefs = np.asarray(values[1:], dtype='float32')\n",
    "    embeddings_index[word] = coefs\n",
    "f.close()\n",
    "print('Found %s word vectors.' % len(embeddings_index))"
   ]
  },
  {
   "cell_type": "code",
   "execution_count": 76,
   "metadata": {},
   "outputs": [
    {
     "ename": "KeyError",
     "evalue": "1",
     "output_type": "error",
     "traceback": [
      "\u001b[0;31m---------------------------------------------------------------------------\u001b[0m",
      "\u001b[0;31mKeyError\u001b[0m                                  Traceback (most recent call last)",
      "\u001b[0;32m<ipython-input-76-e888baba1fc2>\u001b[0m in \u001b[0;36m<module>\u001b[0;34m()\u001b[0m\n\u001b[0;32m----> 1\u001b[0;31m \u001b[0membeddings_index\u001b[0m\u001b[0;34m[\u001b[0m\u001b[0;36m1\u001b[0m\u001b[0;34m]\u001b[0m\u001b[0;34m\u001b[0m\u001b[0m\n\u001b[0m",
      "\u001b[0;31mKeyError\u001b[0m: 1"
     ]
    }
   ],
   "source": []
  },
  {
   "cell_type": "markdown",
   "metadata": {
    "_cell_guid": "908b8685-5c18-6e0f-ff58-00c3fc3763fe"
   },
   "source": [
    "Now read the train and test questions into list of questions."
   ]
  },
  {
   "cell_type": "code",
   "execution_count": 86,
   "metadata": {
    "_cell_guid": "177264f6-4458-35ec-7880-ea96d00dc59c"
   },
   "outputs": [
    {
     "name": "stdout",
     "output_type": "stream",
     "text": [
      "Processing text dataset\n",
      "Found 307005 texts.\n"
     ]
    }
   ],
   "source": [
    "print('Processing text dataset')\n",
    "texts_1 = pd.Series(train['question1']) \n",
    "texts_2 = pd.Series(train['question2']) \n",
    "labels = pd.Series(train['is_duplicate'])\n",
    "train_ids = pd.Series(train['id'])\n",
    "# list of label ids\n",
    "print('Found %s texts.' % len(texts_1))"
   ]
  },
  {
   "cell_type": "code",
   "execution_count": null,
   "metadata": {
    "collapsed": true
   },
   "outputs": [],
   "source": []
  },
  {
   "cell_type": "code",
   "execution_count": 78,
   "metadata": {},
   "outputs": [
    {
     "name": "stdout",
     "output_type": "stream",
     "text": [
      "Found 16159 texts.\n"
     ]
    }
   ],
   "source": [
    "CV_texts_1 = pd.Series(CV['question1']) \n",
    "CV_texts_2 = pd.Series(CV['question2']) \n",
    "CV_labels = pd.Series(CV['is_duplicate'])   # list of label ids\n",
    "print('Found %s texts.' % len(CV_texts_1))"
   ]
  },
  {
   "cell_type": "code",
   "execution_count": 79,
   "metadata": {},
   "outputs": [
    {
     "name": "stdout",
     "output_type": "stream",
     "text": [
      "Found 81126 texts.\n"
     ]
    }
   ],
   "source": [
    "test_texts_1 = pd.Series(test['question1']) \n",
    "test_texts_2 = pd.Series(test['question2']) \n",
    "test_ids = pd.Series(test['test_id']) \n",
    "\n",
    "print('Found %s texts.' % len(test_texts_1))"
   ]
  },
  {
   "cell_type": "code",
   "execution_count": 9,
   "metadata": {
    "collapsed": true
   },
   "outputs": [],
   "source": [
    "all_texts = texts_1.astype(str).tolist() + texts_2.astype(str).tolist() + CV_texts_1.astype(str).tolist() + CV_texts_2.astype(str).tolist()+ test_texts_1.astype(str).tolist() + test_texts_2.astype(str).tolist()\n",
    "\n",
    "texts_1 = texts_1.astype(str).tolist()\n",
    "texts_2 = texts_2.astype(str).tolist()\n",
    "\n",
    "CV_texts_1 = CV_texts_1.astype(str).tolist()\n",
    "CV_texts_2 = CV_texts_2.astype(str).tolist()\n",
    "\n",
    "test_texts_1 = test_texts_1.astype(str).tolist()\n",
    "test_texts_2 = test_texts_2.astype(str).tolist()"
   ]
  },
  {
   "cell_type": "markdown",
   "metadata": {
    "_cell_guid": "eee8b38b-63d6-0aec-c766-1f4cf8a7a28d"
   },
   "source": [
    "Using keras tokenizer to tokenize the text and then do padding the sentences to 30 words"
   ]
  },
  {
   "cell_type": "code",
   "execution_count": 10,
   "metadata": {
    "_cell_guid": "cdb3f7de-05a0-c068-e65c-8e25f527e292"
   },
   "outputs": [
    {
     "name": "stdout",
     "output_type": "stream",
     "text": [
      "Found 95603 unique tokens.\n",
      "('Shape of data tensor:', (258531, 30))\n",
      "('Shape of label tensor:', (258531,))\n"
     ]
    },
    {
     "data": {
      "text/plain": [
       "0"
      ]
     },
     "execution_count": 10,
     "metadata": {},
     "output_type": "execute_result"
    }
   ],
   "source": [
    "tokenizer = Tokenizer(num_words=MAX_NB_WORDS)\n",
    "tokenizer.fit_on_texts(all_texts)\n",
    "\n",
    "sequences_1 = tokenizer.texts_to_sequences(texts_1)\n",
    "sequences_2 = tokenizer.texts_to_sequences(texts_2)\n",
    "word_index = tokenizer.word_index\n",
    "print('Found %s unique tokens.' % len(word_index))\n",
    "\n",
    "CV_sequences_1 = tokenizer.texts_to_sequences(CV_texts_1)\n",
    "CV_sequences_2 = tokenizer.texts_to_sequences(CV_texts_2)\n",
    "\n",
    "test_sequences_1 = tokenizer.texts_to_sequences(test_texts_1)\n",
    "test_sequences_2 = tokenizer.texts_to_sequences(test_texts_2)\n",
    "\n",
    "data_1 = pad_sequences(sequences_1, maxlen=MAX_SEQUENCE_LENGTH)\n",
    "data_2 = pad_sequences(sequences_2, maxlen=MAX_SEQUENCE_LENGTH)\n",
    "labels = np.array(labels)\n",
    "print('Shape of data tensor:', data_1.shape)\n",
    "print('Shape of label tensor:', labels.shape)\n",
    "\n",
    "CV_data_1 = pad_sequences(CV_sequences_1, maxlen=MAX_SEQUENCE_LENGTH)\n",
    "CV_data_2 = pad_sequences(CV_sequences_2, maxlen=MAX_SEQUENCE_LENGTH)\n",
    "\n",
    "test_data_1 = pad_sequences(test_sequences_1, maxlen=MAX_SEQUENCE_LENGTH)\n",
    "test_data_2 = pad_sequences(test_sequences_2, maxlen=MAX_SEQUENCE_LENGTH)\n",
    "#test_labels = np.array(test_labels)\n",
    "\n",
    "del CV_sequences_1\n",
    "del CV_sequences_2\n",
    "del test_sequences_1\n",
    "del test_sequences_2\n",
    "del sequences_1\n",
    "del sequences_2\n",
    "\n",
    "import gc\n",
    "gc.collect()"
   ]
  },
  {
   "cell_type": "code",
   "execution_count": 83,
   "metadata": {},
   "outputs": [
    {
     "data": {
      "text/plain": [
       "array([    0,     0,     0,     0,     0,     0,     0,     0,     0,\n",
       "           0,     0,     0,     0,     0,     2,     3,     1,  4664,\n",
       "         381,    33,     6, 35494,   674,  3965,    29,     6,  2402,\n",
       "        9356,  7195,   582], dtype=int32)"
      ]
     },
     "execution_count": 83,
     "metadata": {},
     "output_type": "execute_result"
    }
   ],
   "source": [
    "data_1[6]"
   ]
  },
  {
   "cell_type": "markdown",
   "metadata": {
    "_cell_guid": "1243e57b-8a99-0ff6-ff1c-ce3f87e38b12"
   },
   "source": [
    "Now let us create the embedding matrix where each row corresponds to a word."
   ]
  },
  {
   "cell_type": "code",
   "execution_count": 11,
   "metadata": {
    "_cell_guid": "ca875eb8-ed26-4fbc-9f53-e38ea5f98af7"
   },
   "outputs": [
    {
     "name": "stdout",
     "output_type": "stream",
     "text": [
      "Preparing embedding matrix.\n",
      "Null word embeddings: 35541\n"
     ]
    }
   ],
   "source": [
    "print('Preparing embedding matrix.')\n",
    "# prepare embedding matrix\n",
    "nb_words = min(MAX_NB_WORDS, len(word_index))\n",
    "\n",
    "embedding_matrix = np.zeros((nb_words, EMBEDDING_DIM))\n",
    "for word, i in word_index.items():\n",
    "    if i >= nb_words:\n",
    "        continue\n",
    "    embedding_vector = embeddings_index.get(word)\n",
    "    if embedding_vector is not None:\n",
    "        # words not found in embedding index will be all-zeros.\n",
    "        embedding_matrix[i] = embedding_vector\n",
    "print('Null word embeddings: %d' % np.sum(np.sum(embedding_matrix, axis=1) == 0))"
   ]
  },
  {
   "cell_type": "code",
   "execution_count": 38,
   "metadata": {},
   "outputs": [
    {
     "data": {
      "text/plain": [
       "array([  4.65600006e-02,   2.13180006e-01,  -7.43639981e-03,\n",
       "        -4.58539993e-01,  -3.56389992e-02,   2.36430004e-01,\n",
       "        -2.88360000e-01,   2.15210006e-01,  -1.34859994e-01,\n",
       "        -1.64129996e+00,  -2.60910004e-01,   3.24340016e-02,\n",
       "         5.66210002e-02,  -4.32960019e-02,  -2.16719992e-02,\n",
       "         2.24759996e-01,  -7.51290023e-02,  -6.70180023e-02,\n",
       "        -1.42470002e-01,   3.88250016e-02,  -1.89510003e-01,\n",
       "         2.99769998e-01,   3.93049985e-01,   1.78870007e-01,\n",
       "        -1.73429996e-01,  -2.11779997e-01,   2.36169994e-01,\n",
       "        -6.36809990e-02,  -4.23180014e-01,  -1.16609998e-01,\n",
       "         9.37540010e-02,   1.72959998e-01,  -3.30729991e-01,\n",
       "         4.91120011e-01,  -6.89949989e-01,  -9.24620032e-02,\n",
       "         2.47419998e-01,  -1.79910004e-01,   9.79079977e-02,\n",
       "         8.31179991e-02,   1.52989998e-01,  -2.72760004e-01,\n",
       "        -3.89339998e-02,   5.44529974e-01,   5.37370026e-01,\n",
       "         2.91049987e-01,  -7.35139987e-03,   4.78800014e-02,\n",
       "        -4.07599986e-01,  -2.67590005e-02,   1.79189995e-01,\n",
       "         1.09770000e-02,  -1.09630004e-01,  -2.63949990e-01,\n",
       "         7.39900023e-02,   2.62360007e-01,  -1.50800005e-01,\n",
       "         3.46230000e-01,   2.57580012e-01,   1.19709998e-01,\n",
       "        -3.71350013e-02,  -7.15930015e-02,   4.38980013e-01,\n",
       "        -4.07640003e-02,   1.64250005e-02,  -4.46399987e-01,\n",
       "         1.71969995e-01,   4.62459996e-02,   5.86390011e-02,\n",
       "         4.14990000e-02,   5.39479971e-01,   5.24950027e-01,\n",
       "         1.13609999e-01,  -4.83149998e-02,  -3.63849998e-01,\n",
       "         1.87040001e-01,   9.27610025e-02,  -1.11290000e-01,\n",
       "        -4.20850009e-01,   1.39919996e-01,  -3.93379986e-01,\n",
       "        -6.79450035e-02,   1.21880002e-01,   1.67070001e-01,\n",
       "         7.51689970e-02,  -1.55290002e-02,  -1.94989994e-01,\n",
       "         1.96380004e-01,   5.31940013e-02,   2.51700014e-01,\n",
       "        -3.48450005e-01,  -1.06380001e-01,  -3.46920013e-01,\n",
       "        -1.90239996e-01,  -2.00399995e-01,   1.21540003e-01,\n",
       "        -2.92079985e-01,   2.33529992e-02,  -1.16180003e-01,\n",
       "        -3.57679993e-01,   6.23040013e-02,   3.58839989e-01,\n",
       "         2.90600006e-02,   7.30049983e-03,   4.94820019e-03,\n",
       "        -1.50480002e-01,  -1.23130001e-01,   1.93370000e-01,\n",
       "         1.21730000e-01,   4.45030004e-01,   2.51470000e-01,\n",
       "         1.07809998e-01,  -1.77159995e-01,   3.86909992e-02,\n",
       "         8.15299973e-02,   1.46669999e-01,   6.36660010e-02,\n",
       "         6.13319986e-02,  -7.55689964e-02,  -3.77240002e-01,\n",
       "         1.58500001e-02,  -3.03420007e-01,   2.83740014e-01,\n",
       "        -4.20130007e-02,  -4.07150015e-02,  -1.52689993e-01,\n",
       "         7.49799982e-02,   1.55770004e-01,   1.04330003e-01,\n",
       "         3.13930005e-01,   1.93090007e-01,   1.94289997e-01,\n",
       "         1.51850000e-01,  -1.01920001e-01,  -1.87849998e-02,\n",
       "         2.07910001e-01,   1.33660004e-01,   1.90380007e-01,\n",
       "        -2.55580008e-01,   3.03999990e-01,  -1.89599991e-02,\n",
       "         2.01470003e-01,  -4.21099991e-01,  -7.51559995e-03,\n",
       "        -2.79769987e-01,  -1.93140000e-01,   4.62040007e-02,\n",
       "         1.99709997e-01,  -3.02069992e-01,   2.57349998e-01,\n",
       "         6.81070030e-01,  -1.94089994e-01,   2.39840001e-01,\n",
       "         2.24930003e-01,   6.52239978e-01,  -1.35609999e-01,\n",
       "        -1.73830003e-01,  -4.82090004e-02,  -1.18600003e-01,\n",
       "         2.15879991e-03,  -1.95250008e-02,   1.19479999e-01,\n",
       "         1.93460003e-01,  -4.08199996e-01,  -8.29659998e-02,\n",
       "         1.66260004e-01,  -1.06009997e-01,   3.58610004e-01,\n",
       "         1.69220001e-01,   7.25900009e-02,  -2.48030007e-01,\n",
       "        -1.00240000e-01,  -5.24909973e-01,  -1.77450001e-01,\n",
       "        -3.66470009e-01,   2.61799991e-01,  -1.20770000e-02,\n",
       "         8.31900015e-02,  -2.15279996e-01,   4.10450011e-01,\n",
       "         2.91359991e-01,   3.08690012e-01,   7.88640007e-02,\n",
       "         3.22070003e-01,  -4.10230011e-02,  -1.09700002e-01,\n",
       "        -9.20410007e-02,  -1.23389997e-01,  -1.64159998e-01,\n",
       "         3.53819996e-01,  -8.27739984e-02,   3.31710011e-01,\n",
       "        -2.47380003e-01,  -4.89280000e-02,   1.57460004e-01,\n",
       "         1.89879999e-01,  -2.66420003e-02,   6.33149967e-02,\n",
       "        -1.06729995e-02,   3.40889990e-01,   1.41059995e+00,\n",
       "         1.34169996e-01,   2.81910002e-01,  -2.59400010e-01,\n",
       "         5.52669987e-02,  -5.24250008e-02,  -2.57889986e-01,\n",
       "         1.91270001e-02,  -2.20839996e-02,   3.21130008e-01,\n",
       "         6.88180029e-02,   5.12070000e-01,   1.64780006e-01,\n",
       "        -2.01940000e-01,   2.92320013e-01,   9.85750034e-02,\n",
       "         1.31449997e-02,  -1.06519997e-01,   1.35100007e-01,\n",
       "        -4.53319997e-02,   2.06970006e-01,  -4.84250009e-01,\n",
       "        -4.47059989e-01,   3.33050010e-03,   2.92639993e-03,\n",
       "        -1.09750003e-01,  -2.33250007e-01,   2.24419996e-01,\n",
       "        -1.05030000e-01,   1.23389997e-01,   1.09779999e-01,\n",
       "         4.89940010e-02,  -2.51569986e-01,   4.03189987e-01,\n",
       "         3.53179991e-01,   1.86509997e-01,  -2.36220006e-02,\n",
       "        -1.27340004e-01,   1.14749998e-01,   2.73589998e-01,\n",
       "        -2.18659997e-01,   1.57939997e-02,   8.17539990e-01,\n",
       "        -2.37920005e-02,  -8.54690015e-01,  -1.62029997e-01,\n",
       "         1.80759996e-01,   2.80140005e-02,  -1.43399999e-01,\n",
       "         1.31389999e-03,  -9.17349979e-02,  -8.97039995e-02,\n",
       "         1.11050002e-01,  -1.67030007e-01,   6.83770031e-02,\n",
       "        -8.73880014e-02,  -3.97889987e-02,   1.41840000e-02,\n",
       "         2.11870000e-01,   2.85789996e-01,  -2.87970006e-01,\n",
       "        -5.89959994e-02,  -3.24359983e-02,  -4.70090006e-03,\n",
       "        -1.70519993e-01,  -3.47409993e-02,  -1.14890002e-01,\n",
       "         7.50930011e-02,   9.95260030e-02,   4.81830016e-02,\n",
       "        -7.37750009e-02,  -4.18170005e-01,   4.12680022e-03,\n",
       "         4.44139987e-01,  -1.60620004e-01,   1.42940000e-01,\n",
       "        -2.26279998e+00,  -2.73470003e-02,   8.13109994e-01,\n",
       "         7.74169981e-01,  -2.56390005e-01,  -1.15759999e-01,\n",
       "        -1.19819999e-01,  -2.13630006e-01,   2.84289997e-02,\n",
       "         2.72610009e-01,   3.10260002e-02,   9.67819989e-02,\n",
       "         6.77690003e-03,   1.40819997e-01,  -1.30639998e-02,\n",
       "        -2.96860009e-01,  -7.99129978e-02,   1.94999993e-01,\n",
       "         3.15489992e-02,   2.85059988e-01,  -8.74610022e-02,\n",
       "         9.06109996e-03,  -2.09889993e-01,   5.39130010e-02])"
      ]
     },
     "execution_count": 38,
     "metadata": {},
     "output_type": "execute_result"
    }
   ],
   "source": [
    "embedding_matrix[1]"
   ]
  },
  {
   "cell_type": "code",
   "execution_count": null,
   "metadata": {
    "collapsed": true
   },
   "outputs": [],
   "source": []
  },
  {
   "cell_type": "markdown",
   "metadata": {
    "_cell_guid": "56d1f6fa-b9bc-4a70-66ea-6a8acad13c46"
   },
   "source": [
    "Now its time to build the model. Let us specify the model architecture. First layer is the embedding layer."
   ]
  },
  {
   "cell_type": "markdown",
   "metadata": {
    "_cell_guid": "f163b655-f4a3-7ce6-42e8-e634ec1f39ee"
   },
   "source": [
    "In embedding layer, 'trainable' is set to False so as to not train the word embeddings during the back propogation.\n",
    "\n",
    "The neural net architecture is as follows:\n",
    "\n",
    "1. Word embeddings of each question is passed to a 1-dimensional convolution layer followed by max pooling.\n",
    "2. It is followed by one dense layer for each of the two questions\n",
    "3. The outputs from both the dense layers are merged together\n",
    "4. It is followed by a dense layer\n",
    "5. Final layer is a sigmoid layer"
   ]
  },
  {
   "cell_type": "code",
   "execution_count": 12,
   "metadata": {
    "_cell_guid": "56eeb1b2-998e-b696-d031-9f71639c9205",
    "collapsed": true
   },
   "outputs": [],
   "source": [
    "embedding_layer = Embedding(nb_words,\n",
    "                            EMBEDDING_DIM,\n",
    "                            weights=[embedding_matrix],\n",
    "                            input_length=MAX_SEQUENCE_LENGTH,\n",
    "                            trainable=False)"
   ]
  },
  {
   "cell_type": "code",
   "execution_count": 53,
   "metadata": {
    "_cell_guid": "278ea96d-a2f3-d93b-00e2-3f57433aa409",
    "collapsed": true
   },
   "outputs": [],
   "source": [
    "num_lstm = np.random.randint(175, 275)\n",
    "num_dense = np.random.randint(100, 150)\n",
    "rate_drop_lstm = 0.15 + np.random.rand() * 0.25\n",
    "rate_drop_dense = 0.15 + np.random.rand() * 0.25\n",
    "act = 'relu'\n",
    "re_weight = True\n",
    "\n",
    "#lstm_layer = LSTM(num_lstm, dropout=rate_drop_lstm, recurrent_dropout=rate_drop_lstm)\n",
    "lstm_layer = Bidirectional(LSTM(num_lstm, dropout=rate_drop_lstm, recurrent_dropout=rate_drop_lstm))\n",
    "\n",
    "sequence_1_input = Input(shape=(MAX_SEQUENCE_LENGTH,), dtype='int32')\n",
    "embedded_sequences_1 = embedding_layer(sequence_1_input)\n",
    "x1 = lstm_layer(embedded_sequences_1)\n",
    "\n",
    "sequence_2_input = Input(shape=(MAX_SEQUENCE_LENGTH,), dtype='int32')\n",
    "embedded_sequences_2 = embedding_layer(sequence_2_input)\n",
    "y1 = lstm_layer(embedded_sequences_2)\n",
    "\n",
    "\n",
    "merged = concatenate([x1, y1])\n",
    "merged = Dropout(rate_drop_dense)(merged)\n",
    "merged = BatchNormalization()(merged)\n",
    "\n",
    "merged = Dense(num_dense, activation=act)(merged)\n",
    "merged = Dropout(rate_drop_dense)(merged)\n",
    "merged = BatchNormalization()(merged)\n",
    "\n",
    "merged = Dense(num_dense, activation=act)(merged)\n",
    "merged = Dropout(rate_drop_dense)(merged)\n",
    "merged = BatchNormalization()(merged)\n",
    "\n",
    "preds = Dense(1, activation='sigmoid')(merged)\n",
    "\n",
    "if re_weight:\n",
    "    class_weight = {0: 1.309028344, 1: 0.472001959}\n",
    "else:\n",
    "    class_weight = None\n",
    "\n",
    "model = Model(inputs=[sequence_1_input, sequence_2_input], \\\n",
    "        outputs=preds)\n",
    "model.compile(loss='binary_crossentropy',\n",
    "        optimizer='nadam',\n",
    "        metrics=['acc'])"
   ]
  },
  {
   "cell_type": "markdown",
   "metadata": {
    "_cell_guid": "2e1c2121-a1ce-f9a6-bbf8-c9290bc864d4"
   },
   "source": [
    "**Model training and predictions :**\n",
    "\n",
    "Uncomment the below cell and run it in local as it is exceeding the time limits here."
   ]
  },
  {
   "cell_type": "code",
   "execution_count": 97,
   "metadata": {
    "_cell_guid": "19e71349-400c-f6c8-c2dd-becb6c8cb722"
   },
   "outputs": [
    {
     "name": "stdout",
     "output_type": "stream",
     "text": [
      "Train on 303934 samples, validate on 3071 samples\n",
      "Epoch 1/1\n",
      "  5120/303934 [..............................] - ETA: 2324s - loss: 0.4489 - acc: 0.7785"
     ]
    },
    {
     "ename": "KeyboardInterrupt",
     "evalue": "",
     "output_type": "error",
     "traceback": [
      "\u001b[0;31m---------------------------------------------------------------------------\u001b[0m",
      "\u001b[0;31mKeyboardInterrupt\u001b[0m                         Traceback (most recent call last)",
      "\u001b[0;32m<ipython-input-97-6b3f09901495>\u001b[0m in \u001b[0;36m<module>\u001b[0;34m()\u001b[0m\n\u001b[0;32m----> 1\u001b[0;31m \u001b[0mmodel\u001b[0m\u001b[0;34m.\u001b[0m\u001b[0mfit\u001b[0m\u001b[0;34m(\u001b[0m\u001b[0;34m[\u001b[0m\u001b[0mdata_1\u001b[0m\u001b[0;34m,\u001b[0m\u001b[0mdata_2\u001b[0m\u001b[0;34m]\u001b[0m\u001b[0;34m,\u001b[0m \u001b[0mlabels\u001b[0m\u001b[0;34m,\u001b[0m \u001b[0mvalidation_split\u001b[0m\u001b[0;34m=\u001b[0m\u001b[0mVALIDATION_SPLIT\u001b[0m\u001b[0;34m,\u001b[0m \u001b[0mepochs\u001b[0m\u001b[0;34m=\u001b[0m\u001b[0;36m1\u001b[0m\u001b[0;34m,\u001b[0m \u001b[0mbatch_size\u001b[0m\u001b[0;34m=\u001b[0m\u001b[0;36m1024\u001b[0m\u001b[0;34m,\u001b[0m \u001b[0mshuffle\u001b[0m\u001b[0;34m=\u001b[0m\u001b[0mTrue\u001b[0m\u001b[0;34m)\u001b[0m\u001b[0;34m\u001b[0m\u001b[0m\n\u001b[0m",
      "\u001b[0;32m/Users/tom/anaconda/lib/python2.7/site-packages/keras/engine/training.pyc\u001b[0m in \u001b[0;36mfit\u001b[0;34m(self, x, y, batch_size, epochs, verbose, callbacks, validation_split, validation_data, shuffle, class_weight, sample_weight, initial_epoch, steps_per_epoch, validation_steps, **kwargs)\u001b[0m\n\u001b[1;32m   1596\u001b[0m                               \u001b[0minitial_epoch\u001b[0m\u001b[0;34m=\u001b[0m\u001b[0minitial_epoch\u001b[0m\u001b[0;34m,\u001b[0m\u001b[0;34m\u001b[0m\u001b[0m\n\u001b[1;32m   1597\u001b[0m                               \u001b[0msteps_per_epoch\u001b[0m\u001b[0;34m=\u001b[0m\u001b[0msteps_per_epoch\u001b[0m\u001b[0;34m,\u001b[0m\u001b[0;34m\u001b[0m\u001b[0m\n\u001b[0;32m-> 1598\u001b[0;31m                               validation_steps=validation_steps)\n\u001b[0m\u001b[1;32m   1599\u001b[0m \u001b[0;34m\u001b[0m\u001b[0m\n\u001b[1;32m   1600\u001b[0m     def evaluate(self, x, y,\n",
      "\u001b[0;32m/Users/tom/anaconda/lib/python2.7/site-packages/keras/engine/training.pyc\u001b[0m in \u001b[0;36m_fit_loop\u001b[0;34m(self, f, ins, out_labels, batch_size, epochs, verbose, callbacks, val_f, val_ins, shuffle, callback_metrics, initial_epoch, steps_per_epoch, validation_steps)\u001b[0m\n\u001b[1;32m   1181\u001b[0m                     \u001b[0mbatch_logs\u001b[0m\u001b[0;34m[\u001b[0m\u001b[0;34m'size'\u001b[0m\u001b[0;34m]\u001b[0m \u001b[0;34m=\u001b[0m \u001b[0mlen\u001b[0m\u001b[0;34m(\u001b[0m\u001b[0mbatch_ids\u001b[0m\u001b[0;34m)\u001b[0m\u001b[0;34m\u001b[0m\u001b[0m\n\u001b[1;32m   1182\u001b[0m                     \u001b[0mcallbacks\u001b[0m\u001b[0;34m.\u001b[0m\u001b[0mon_batch_begin\u001b[0m\u001b[0;34m(\u001b[0m\u001b[0mbatch_index\u001b[0m\u001b[0;34m,\u001b[0m \u001b[0mbatch_logs\u001b[0m\u001b[0;34m)\u001b[0m\u001b[0;34m\u001b[0m\u001b[0m\n\u001b[0;32m-> 1183\u001b[0;31m                     \u001b[0mouts\u001b[0m \u001b[0;34m=\u001b[0m \u001b[0mf\u001b[0m\u001b[0;34m(\u001b[0m\u001b[0mins_batch\u001b[0m\u001b[0;34m)\u001b[0m\u001b[0;34m\u001b[0m\u001b[0m\n\u001b[0m\u001b[1;32m   1184\u001b[0m                     \u001b[0;32mif\u001b[0m \u001b[0;32mnot\u001b[0m \u001b[0misinstance\u001b[0m\u001b[0;34m(\u001b[0m\u001b[0mouts\u001b[0m\u001b[0;34m,\u001b[0m \u001b[0mlist\u001b[0m\u001b[0;34m)\u001b[0m\u001b[0;34m:\u001b[0m\u001b[0;34m\u001b[0m\u001b[0m\n\u001b[1;32m   1185\u001b[0m                         \u001b[0mouts\u001b[0m \u001b[0;34m=\u001b[0m \u001b[0;34m[\u001b[0m\u001b[0mouts\u001b[0m\u001b[0;34m]\u001b[0m\u001b[0;34m\u001b[0m\u001b[0m\n",
      "\u001b[0;32m/Users/tom/anaconda/lib/python2.7/site-packages/keras/backend/tensorflow_backend.pyc\u001b[0m in \u001b[0;36m__call__\u001b[0;34m(self, inputs)\u001b[0m\n\u001b[1;32m   2271\u001b[0m         updated = session.run(self.outputs + [self.updates_op],\n\u001b[1;32m   2272\u001b[0m                               \u001b[0mfeed_dict\u001b[0m\u001b[0;34m=\u001b[0m\u001b[0mfeed_dict\u001b[0m\u001b[0;34m,\u001b[0m\u001b[0;34m\u001b[0m\u001b[0m\n\u001b[0;32m-> 2273\u001b[0;31m                               **self.session_kwargs)\n\u001b[0m\u001b[1;32m   2274\u001b[0m         \u001b[0;32mreturn\u001b[0m \u001b[0mupdated\u001b[0m\u001b[0;34m[\u001b[0m\u001b[0;34m:\u001b[0m\u001b[0mlen\u001b[0m\u001b[0;34m(\u001b[0m\u001b[0mself\u001b[0m\u001b[0;34m.\u001b[0m\u001b[0moutputs\u001b[0m\u001b[0;34m)\u001b[0m\u001b[0;34m]\u001b[0m\u001b[0;34m\u001b[0m\u001b[0m\n\u001b[1;32m   2275\u001b[0m \u001b[0;34m\u001b[0m\u001b[0m\n",
      "\u001b[0;32m/Users/tom/anaconda/lib/python2.7/site-packages/tensorflow/python/client/session.pyc\u001b[0m in \u001b[0;36mrun\u001b[0;34m(self, fetches, feed_dict, options, run_metadata)\u001b[0m\n\u001b[1;32m    776\u001b[0m     \u001b[0;32mtry\u001b[0m\u001b[0;34m:\u001b[0m\u001b[0;34m\u001b[0m\u001b[0m\n\u001b[1;32m    777\u001b[0m       result = self._run(None, fetches, feed_dict, options_ptr,\n\u001b[0;32m--> 778\u001b[0;31m                          run_metadata_ptr)\n\u001b[0m\u001b[1;32m    779\u001b[0m       \u001b[0;32mif\u001b[0m \u001b[0mrun_metadata\u001b[0m\u001b[0;34m:\u001b[0m\u001b[0;34m\u001b[0m\u001b[0m\n\u001b[1;32m    780\u001b[0m         \u001b[0mproto_data\u001b[0m \u001b[0;34m=\u001b[0m \u001b[0mtf_session\u001b[0m\u001b[0;34m.\u001b[0m\u001b[0mTF_GetBuffer\u001b[0m\u001b[0;34m(\u001b[0m\u001b[0mrun_metadata_ptr\u001b[0m\u001b[0;34m)\u001b[0m\u001b[0;34m\u001b[0m\u001b[0m\n",
      "\u001b[0;32m/Users/tom/anaconda/lib/python2.7/site-packages/tensorflow/python/client/session.pyc\u001b[0m in \u001b[0;36m_run\u001b[0;34m(self, handle, fetches, feed_dict, options, run_metadata)\u001b[0m\n\u001b[1;32m    980\u001b[0m     \u001b[0;32mif\u001b[0m \u001b[0mfinal_fetches\u001b[0m \u001b[0;32mor\u001b[0m \u001b[0mfinal_targets\u001b[0m\u001b[0;34m:\u001b[0m\u001b[0;34m\u001b[0m\u001b[0m\n\u001b[1;32m    981\u001b[0m       results = self._do_run(handle, final_targets, final_fetches,\n\u001b[0;32m--> 982\u001b[0;31m                              feed_dict_string, options, run_metadata)\n\u001b[0m\u001b[1;32m    983\u001b[0m     \u001b[0;32melse\u001b[0m\u001b[0;34m:\u001b[0m\u001b[0;34m\u001b[0m\u001b[0m\n\u001b[1;32m    984\u001b[0m       \u001b[0mresults\u001b[0m \u001b[0;34m=\u001b[0m \u001b[0;34m[\u001b[0m\u001b[0;34m]\u001b[0m\u001b[0;34m\u001b[0m\u001b[0m\n",
      "\u001b[0;32m/Users/tom/anaconda/lib/python2.7/site-packages/tensorflow/python/client/session.pyc\u001b[0m in \u001b[0;36m_do_run\u001b[0;34m(self, handle, target_list, fetch_list, feed_dict, options, run_metadata)\u001b[0m\n\u001b[1;32m   1030\u001b[0m     \u001b[0;32mif\u001b[0m \u001b[0mhandle\u001b[0m \u001b[0;32mis\u001b[0m \u001b[0mNone\u001b[0m\u001b[0;34m:\u001b[0m\u001b[0;34m\u001b[0m\u001b[0m\n\u001b[1;32m   1031\u001b[0m       return self._do_call(_run_fn, self._session, feed_dict, fetch_list,\n\u001b[0;32m-> 1032\u001b[0;31m                            target_list, options, run_metadata)\n\u001b[0m\u001b[1;32m   1033\u001b[0m     \u001b[0;32melse\u001b[0m\u001b[0;34m:\u001b[0m\u001b[0;34m\u001b[0m\u001b[0m\n\u001b[1;32m   1034\u001b[0m       return self._do_call(_prun_fn, self._session, handle, feed_dict,\n",
      "\u001b[0;32m/Users/tom/anaconda/lib/python2.7/site-packages/tensorflow/python/client/session.pyc\u001b[0m in \u001b[0;36m_do_call\u001b[0;34m(self, fn, *args)\u001b[0m\n\u001b[1;32m   1037\u001b[0m   \u001b[0;32mdef\u001b[0m \u001b[0m_do_call\u001b[0m\u001b[0;34m(\u001b[0m\u001b[0mself\u001b[0m\u001b[0;34m,\u001b[0m \u001b[0mfn\u001b[0m\u001b[0;34m,\u001b[0m \u001b[0;34m*\u001b[0m\u001b[0margs\u001b[0m\u001b[0;34m)\u001b[0m\u001b[0;34m:\u001b[0m\u001b[0;34m\u001b[0m\u001b[0m\n\u001b[1;32m   1038\u001b[0m     \u001b[0;32mtry\u001b[0m\u001b[0;34m:\u001b[0m\u001b[0;34m\u001b[0m\u001b[0m\n\u001b[0;32m-> 1039\u001b[0;31m       \u001b[0;32mreturn\u001b[0m \u001b[0mfn\u001b[0m\u001b[0;34m(\u001b[0m\u001b[0;34m*\u001b[0m\u001b[0margs\u001b[0m\u001b[0;34m)\u001b[0m\u001b[0;34m\u001b[0m\u001b[0m\n\u001b[0m\u001b[1;32m   1040\u001b[0m     \u001b[0;32mexcept\u001b[0m \u001b[0merrors\u001b[0m\u001b[0;34m.\u001b[0m\u001b[0mOpError\u001b[0m \u001b[0;32mas\u001b[0m \u001b[0me\u001b[0m\u001b[0;34m:\u001b[0m\u001b[0;34m\u001b[0m\u001b[0m\n\u001b[1;32m   1041\u001b[0m       \u001b[0mmessage\u001b[0m \u001b[0;34m=\u001b[0m \u001b[0mcompat\u001b[0m\u001b[0;34m.\u001b[0m\u001b[0mas_text\u001b[0m\u001b[0;34m(\u001b[0m\u001b[0me\u001b[0m\u001b[0;34m.\u001b[0m\u001b[0mmessage\u001b[0m\u001b[0;34m)\u001b[0m\u001b[0;34m\u001b[0m\u001b[0m\n",
      "\u001b[0;32m/Users/tom/anaconda/lib/python2.7/site-packages/tensorflow/python/client/session.pyc\u001b[0m in \u001b[0;36m_run_fn\u001b[0;34m(session, feed_dict, fetch_list, target_list, options, run_metadata)\u001b[0m\n\u001b[1;32m   1019\u001b[0m         return tf_session.TF_Run(session, options,\n\u001b[1;32m   1020\u001b[0m                                  \u001b[0mfeed_dict\u001b[0m\u001b[0;34m,\u001b[0m \u001b[0mfetch_list\u001b[0m\u001b[0;34m,\u001b[0m \u001b[0mtarget_list\u001b[0m\u001b[0;34m,\u001b[0m\u001b[0;34m\u001b[0m\u001b[0m\n\u001b[0;32m-> 1021\u001b[0;31m                                  status, run_metadata)\n\u001b[0m\u001b[1;32m   1022\u001b[0m \u001b[0;34m\u001b[0m\u001b[0m\n\u001b[1;32m   1023\u001b[0m     \u001b[0;32mdef\u001b[0m \u001b[0m_prun_fn\u001b[0m\u001b[0;34m(\u001b[0m\u001b[0msession\u001b[0m\u001b[0;34m,\u001b[0m \u001b[0mhandle\u001b[0m\u001b[0;34m,\u001b[0m \u001b[0mfeed_dict\u001b[0m\u001b[0;34m,\u001b[0m \u001b[0mfetch_list\u001b[0m\u001b[0;34m)\u001b[0m\u001b[0;34m:\u001b[0m\u001b[0;34m\u001b[0m\u001b[0m\n",
      "\u001b[0;31mKeyboardInterrupt\u001b[0m: "
     ]
    }
   ],
   "source": [
    "model.fit([data_1,data_2], labels, validation_split=VALIDATION_SPLIT, epochs=1, batch_size=1024, shuffle=True)"
   ]
  },
  {
   "cell_type": "code",
   "execution_count": 95,
   "metadata": {},
   "outputs": [],
   "source": [
    "from helpers import save_model\n",
    "save_model(model, BASE_DIR)"
   ]
  },
  {
   "cell_type": "code",
   "execution_count": 73,
   "metadata": {},
   "outputs": [
    {
     "name": "stdout",
     "output_type": "stream",
     "text": [
      "(16159, 1)\n",
      "[[ 0.23493358]\n",
      " [ 0.31376609]\n",
      " [ 0.24214925]\n",
      " ..., \n",
      " [ 0.51965785]\n",
      " [ 0.03693218]\n",
      " [ 0.66938591]]\n"
     ]
    }
   ],
   "source": [
    "preds = model.predict([CV_data_1, CV_data_2])\n",
    "print(preds.shape)\n",
    "print(preds)"
   ]
  },
  {
   "cell_type": "code",
   "execution_count": 74,
   "metadata": {},
   "outputs": [
    {
     "data": {
      "text/plain": [
       "0.78012253233492168"
      ]
     },
     "execution_count": 74,
     "metadata": {},
     "output_type": "execute_result"
    }
   ],
   "source": [
    "out_df = pd.DataFrame({\"is_duplicate\":CV_labels, \"pred_is_duplicate\":np.round(preds.ravel()).astype(int)})\n",
    "\n",
    "out_df['correct_pred'] = out_df['is_duplicate'] == out_df['pred_is_duplicate']\n",
    "\n",
    "np.sum(out_df['correct_pred']).astype(float)/len(out_df['correct_pred'])\n",
    "\n",
    "#out_df.to_csv(\"test_predictions.csv\", index=False)\n",
    "\n",
    "#pd.DataFrame({\"is_duplicate\":preds.ravel()}).to_csv(\"keras_LSTM_predictions.csv\", index=False)"
   ]
  },
  {
   "cell_type": "code",
   "execution_count": 47,
   "metadata": {},
   "outputs": [
    {
     "name": "stdout",
     "output_type": "stream",
     "text": [
      "(81113, 1)\n",
      "[[ 0.99751651]\n",
      " [ 0.8134324 ]\n",
      " [ 0.15785132]\n",
      " ..., \n",
      " [ 0.70289481]\n",
      " [ 0.20372812]\n",
      " [ 0.02998717]]\n"
     ]
    }
   ],
   "source": [
    "#FAILS AT 81114?!\n",
    "\n",
    "final_preds = model.predict([test_data_1[:81113], test_data_2[:81113]])\n",
    "print(final_preds.shape)\n",
    "print(final_preds)"
   ]
  },
  {
   "cell_type": "code",
   "execution_count": 48,
   "metadata": {
    "collapsed": true
   },
   "outputs": [],
   "source": [
    "final_df = pd.DataFrame({\"test_id\":test_ids[:81113], \"is_duplicate\":np.round(final_preds.ravel()).astype(int)})\n",
    "final_df.to_csv(\"keras_LSTM_2fc_10epochs.csv\", index=False)\n"
   ]
  },
  {
   "cell_type": "code",
   "execution_count": 87,
   "metadata": {
    "collapsed": true
   },
   "outputs": [],
   "source": [
    "train_preds = model.predict([data_1, data_2])"
   ]
  },
  {
   "cell_type": "code",
   "execution_count": 88,
   "metadata": {
    "collapsed": true
   },
   "outputs": [],
   "source": [
    "xtra_df = pd.DataFrame({\"test_id\":train_ids, \"pred_is_duplicate\":train_preds.ravel()})\n",
    "xtra_df.to_csv(\"preds_for_logreg.csv\", index=False)"
   ]
  },
  {
   "cell_type": "markdown",
   "metadata": {
    "_cell_guid": "42eb8b2d-d666-ae90-c98a-cfa277b7400e"
   },
   "source": [
    "This scores about 0.55 when run locally using the word embedding. Got better scores using LSTM and Time Distributed layer.\n",
    "\n",
    "Try different architectures and have a happy learning."
   ]
  },
  {
   "cell_type": "markdown",
   "metadata": {
    "_cell_guid": "e46ad003-246c-2bcc-bbf7-57cbacd66c34"
   },
   "source": [
    "Hope this helps to get started with keras and word embeddings in this competition."
   ]
  },
  {
   "cell_type": "markdown",
   "metadata": {
    "_cell_guid": "dd9e6c69-cdd6-87c4-2c0c-79cfd0aa466f"
   },
   "source": [
    "**References :**\n",
    "\n",
    " 1. [On word embeddings - part 1][1] by Sebastian Ruder\n",
    " 2. [Blog post][2] by fchollet\n",
    " 3. [Code][3] by Abhishek Thakur\n",
    " 4. [Code][4] by Bradley Pallen\n",
    "\n",
    "\n",
    "  [1]: http://sebastianruder.com/word-embeddings-1/\n",
    "  [2]: https://blog.keras.io/using-pre-trained-word-embeddings-in-a-keras-model.html\n",
    "  [3]: https://github.com/abhishekkrthakur/is_that_a_duplicate_quora_question\n",
    "  [4]: https://github.com/bradleypallen/keras-quora-question-pairs"
   ]
  }
 ],
 "metadata": {
  "_change_revision": 9,
  "_is_fork": false,
  "kernelspec": {
   "display_name": "Python 2",
   "language": "python",
   "name": "python2"
  },
  "language_info": {
   "codemirror_mode": {
    "name": "ipython",
    "version": 2
   },
   "file_extension": ".py",
   "mimetype": "text/x-python",
   "name": "python",
   "nbconvert_exporter": "python",
   "pygments_lexer": "ipython2",
   "version": "2.7.13"
  }
 },
 "nbformat": 4,
 "nbformat_minor": 1
}
