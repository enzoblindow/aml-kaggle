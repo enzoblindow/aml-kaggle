{
 "cells": [
  {
   "cell_type": "markdown",
   "metadata": {
    "_cell_guid": "1c29b03e-310f-c64d-ed42-f9895c254c41"
   },
   "source": [
    "This script intends to be a starter script for Keras using pre-trained word embeddings.\n",
    "\n",
    "**Word embedding:**\n",
    "\n",
    "[Word embedding][1] is the collective name for a set of language modeling and feature learning techniques in natural language processing (NLP) where words or phrases from the vocabulary are mapped to vectors of real numbers. They are also called as word vectors.\n",
    "\n",
    "Two commonly used word embeddings are:\n",
    "\n",
    "1.  [Google word2vec][2]\n",
    "2. [Stanford Glove][3]\n",
    "\n",
    "In this notebook, we will use the GloVe word vector which is downloaded from [this link][4] \n",
    "\n",
    "Let us first import the necessary packages.\n",
    "\n",
    "\n",
    "  [1]: https://en.wikipedia.org/wiki/Word_embedding\n",
    "  [2]: https://code.google.com/archive/p/word2vec/\n",
    "  [3]: https://nlp.stanford.edu/projects/glove/\n",
    "  [4]: http://nlp.stanford.edu/data/glove.6B.zip"
   ]
  },
  {
   "cell_type": "code",
   "execution_count": 1,
   "metadata": {
    "_cell_guid": "b481b4ef-630f-a5e1-6465-863bb15b8203"
   },
   "outputs": [
    {
     "name": "stderr",
     "output_type": "stream",
     "text": [
      "Using TensorFlow backend.\n"
     ]
    }
   ],
   "source": [
    "import os\n",
    "import csv\n",
    "import codecs\n",
    "import numpy as np\n",
    "import pandas as pd\n",
    "import keras\n",
    "from sklearn.model_selection import train_test_split\n",
    "\n",
    "np.random.seed(1337)\n",
    "\n",
    "from keras.preprocessing.text import Tokenizer\n",
    "from keras.preprocessing.sequence import pad_sequences\n",
    "from keras.utils.np_utils import to_categorical\n",
    "from keras.layers import Dense, Input, Flatten, merge, LSTM, Lambda, Dropout\n",
    "from keras.layers import Conv1D, MaxPooling1D, Embedding\n",
    "from keras.models import Model\n",
    "from keras.layers.wrappers import TimeDistributed, Bidirectional\n",
    "from keras.layers.normalization import BatchNormalization\n",
    "from keras import backend as K\n",
    "import sys\n",
    "from keras.layers.merge import concatenate"
   ]
  },
  {
   "cell_type": "markdown",
   "metadata": {
    "_cell_guid": "dc21f166-ef1f-9afe-25a2-e9d60806130a"
   },
   "source": [
    "Let us specify the constants that are needed for the model.\n",
    "\n",
    " 1. MAX_SEQUENCE_LENGTH : number of words from the question to be used\n",
    " 2. MAX_NB_WORDS : maximum size of the vocabulary\n",
    " 3. EMBEDDING_DIM : dimension of the word embeddings"
   ]
  },
  {
   "cell_type": "code",
   "execution_count": 2,
   "metadata": {
    "_cell_guid": "64678483-0136-5594-4cfc-2441bfd10fd4",
    "collapsed": true
   },
   "outputs": [],
   "source": [
    "BASE_DIR = 'data/'\n",
    "GLOVE_DIR ='/Users/tom/Msc Data Science/Machine Learning/Assignments/Quora/Glove.6B'\n",
    "TRAIN_DATA_FILE = BASE_DIR + 'train_data.csv'\n",
    "TEST_DATA_FILE = BASE_DIR + 'test_data.csv'\n",
    "MAX_SEQUENCE_LENGTH = 30\n",
    "MAX_NB_WORDS = 200000\n",
    "EMBEDDING_DIM = 300\n",
    "VALIDATION_SPLIT = 0.01"
   ]
  },
  {
   "cell_type": "code",
   "execution_count": 3,
   "metadata": {
    "collapsed": true
   },
   "outputs": [],
   "source": [
    "###APPEND LABELS TO TRAINING DATA \n",
    "\n",
    "df_train = pd.read_csv('data/train_data.csv')\n",
    "df_train.drop(['is_duplicate'], axis= 1, inplace = True)\n",
    "df_labels = pd.read_csv('data/train_labels.csv')\n",
    "df_train = df_train.merge(df_labels)\n",
    "\n"
   ]
  },
  {
   "cell_type": "code",
   "execution_count": 4,
   "metadata": {
    "collapsed": true
   },
   "outputs": [],
   "source": [
    "###Create datasets\n",
    "#train, CV = train_test_split(df_train, train_size = 0.8, random_state = 49)\n",
    "train, CV = train_test_split(df_train, train_size = 0.95, random_state = 49)\n",
    "\n",
    "test = pd.read_csv('data/test_data.csv')"
   ]
  },
  {
   "cell_type": "markdown",
   "metadata": {
    "_cell_guid": "ccb2f15f-ba61-4bba-40b3-5fedf9266bc1"
   },
   "source": [
    "As the first step, let us read the word vectors text file into a dictionary where the word is the key and the 300 dimensional vector is its corresponding value.\n",
    "\n",
    "Note : This will throw an error here since the word vectors are not here in Kaggle environment."
   ]
  },
  {
   "cell_type": "code",
   "execution_count": 75,
   "metadata": {
    "_cell_guid": "5dbc03e4-19ca-eb82-194e-1f64613c55c1"
   },
   "outputs": [
    {
     "name": "stdout",
     "output_type": "stream",
     "text": [
      "Indexing word vectors.\n"
     ]
    },
    {
     "ename": "KeyboardInterrupt",
     "evalue": "",
     "output_type": "error",
     "traceback": [
      "\u001b[0;31m---------------------------------------------------------------------------\u001b[0m",
      "\u001b[0;31mKeyboardInterrupt\u001b[0m                         Traceback (most recent call last)",
      "\u001b[0;32m<ipython-input-75-4571453964c8>\u001b[0m in \u001b[0;36m<module>\u001b[0;34m()\u001b[0m\n\u001b[1;32m      1\u001b[0m \u001b[0;32mprint\u001b[0m\u001b[0;34m(\u001b[0m\u001b[0;34m'Indexing word vectors.'\u001b[0m\u001b[0;34m)\u001b[0m\u001b[0;34m\u001b[0m\u001b[0m\n\u001b[0;32m----> 2\u001b[0;31m \u001b[0membeddings_index\u001b[0m \u001b[0;34m=\u001b[0m \u001b[0;34m{\u001b[0m\u001b[0;34m}\u001b[0m\u001b[0;34m\u001b[0m\u001b[0m\n\u001b[0m\u001b[1;32m      3\u001b[0m \u001b[0mf\u001b[0m \u001b[0;34m=\u001b[0m \u001b[0mcodecs\u001b[0m\u001b[0;34m.\u001b[0m\u001b[0mopen\u001b[0m\u001b[0;34m(\u001b[0m\u001b[0mos\u001b[0m\u001b[0;34m.\u001b[0m\u001b[0mpath\u001b[0m\u001b[0;34m.\u001b[0m\u001b[0mjoin\u001b[0m\u001b[0;34m(\u001b[0m\u001b[0mGLOVE_DIR\u001b[0m\u001b[0;34m,\u001b[0m \u001b[0;34m'glove.6B.300d.txt'\u001b[0m\u001b[0;34m)\u001b[0m\u001b[0;34m,\u001b[0m \u001b[0mencoding\u001b[0m\u001b[0;34m=\u001b[0m\u001b[0;34m'utf-8'\u001b[0m\u001b[0;34m)\u001b[0m\u001b[0;34m\u001b[0m\u001b[0m\n\u001b[1;32m      4\u001b[0m \u001b[0;32mfor\u001b[0m \u001b[0mline\u001b[0m \u001b[0;32min\u001b[0m \u001b[0mf\u001b[0m\u001b[0;34m:\u001b[0m\u001b[0;34m\u001b[0m\u001b[0m\n\u001b[1;32m      5\u001b[0m     \u001b[0mvalues\u001b[0m \u001b[0;34m=\u001b[0m \u001b[0mline\u001b[0m\u001b[0;34m.\u001b[0m\u001b[0msplit\u001b[0m\u001b[0;34m(\u001b[0m\u001b[0;34m' '\u001b[0m\u001b[0;34m)\u001b[0m\u001b[0;34m\u001b[0m\u001b[0m\n",
      "\u001b[0;31mKeyboardInterrupt\u001b[0m: "
     ]
    }
   ],
   "source": [
    "print('Indexing word vectors.')\n",
    "embeddings_index = {}\n",
    "f = codecs.open(os.path.join(GLOVE_DIR, 'glove.6B.300d.txt'), encoding='utf-8')\n",
    "for line in f:\n",
    "    values = line.split(' ')\n",
    "    word = values[0]\n",
    "    coefs = np.asarray(values[1:], dtype='float32')\n",
    "    embeddings_index[word] = coefs\n",
    "f.close()\n",
    "print('Found %s word vectors.' % len(embeddings_index))"
   ]
  },
  {
   "cell_type": "code",
   "execution_count": 76,
   "metadata": {
    "scrolled": true
   },
   "outputs": [
    {
     "ename": "KeyError",
     "evalue": "1",
     "output_type": "error",
     "traceback": [
      "\u001b[0;31m---------------------------------------------------------------------------\u001b[0m",
      "\u001b[0;31mKeyError\u001b[0m                                  Traceback (most recent call last)",
      "\u001b[0;32m<ipython-input-76-e888baba1fc2>\u001b[0m in \u001b[0;36m<module>\u001b[0;34m()\u001b[0m\n\u001b[0;32m----> 1\u001b[0;31m \u001b[0membeddings_index\u001b[0m\u001b[0;34m[\u001b[0m\u001b[0;36m1\u001b[0m\u001b[0;34m]\u001b[0m\u001b[0;34m\u001b[0m\u001b[0m\n\u001b[0m",
      "\u001b[0;31mKeyError\u001b[0m: 1"
     ]
    }
   ],
   "source": []
  },
  {
   "cell_type": "markdown",
   "metadata": {
    "_cell_guid": "908b8685-5c18-6e0f-ff58-00c3fc3763fe"
   },
   "source": [
    "Now read the train and test questions into list of questions."
   ]
  },
  {
   "cell_type": "code",
   "execution_count": 86,
   "metadata": {
    "_cell_guid": "177264f6-4458-35ec-7880-ea96d00dc59c"
   },
   "outputs": [
    {
     "name": "stdout",
     "output_type": "stream",
     "text": [
      "Processing text dataset\n",
      "Found 307005 texts.\n"
     ]
    }
   ],
   "source": [
    "print('Processing text dataset')\n",
    "texts_1 = pd.Series(train['question1']) \n",
    "texts_2 = pd.Series(train['question2']) \n",
    "labels = pd.Series(train['is_duplicate'])\n",
    "train_ids = pd.Series(train['id'])\n",
    "# list of label ids\n",
    "print('Found %s texts.' % len(texts_1))"
   ]
  },
  {
   "cell_type": "code",
   "execution_count": null,
   "metadata": {
    "collapsed": true
   },
   "outputs": [],
   "source": []
  },
  {
   "cell_type": "code",
   "execution_count": 78,
   "metadata": {},
   "outputs": [
    {
     "name": "stdout",
     "output_type": "stream",
     "text": [
      "Found 16159 texts.\n"
     ]
    }
   ],
   "source": [
    "CV_texts_1 = pd.Series(CV['question1']) \n",
    "CV_texts_2 = pd.Series(CV['question2']) \n",
    "CV_labels = pd.Series(CV['is_duplicate'])   # list of label ids\n",
    "print('Found %s texts.' % len(CV_texts_1))"
   ]
  },
  {
   "cell_type": "code",
   "execution_count": 79,
   "metadata": {},
   "outputs": [
    {
     "name": "stdout",
     "output_type": "stream",
     "text": [
      "Found 81126 texts.\n"
     ]
    }
   ],
   "source": [
    "test_texts_1 = pd.Series(test['question1']) \n",
    "test_texts_2 = pd.Series(test['question2']) \n",
    "test_ids = pd.Series(test['test_id']) \n",
    "\n",
    "print('Found %s texts.' % len(test_texts_1))"
   ]
  },
  {
   "cell_type": "code",
   "execution_count": 9,
   "metadata": {
    "collapsed": true
   },
   "outputs": [],
   "source": [
    "all_texts = texts_1.astype(str).tolist() + texts_2.astype(str).tolist() + CV_texts_1.astype(str).tolist() + CV_texts_2.astype(str).tolist()+ test_texts_1.astype(str).tolist() + test_texts_2.astype(str).tolist()\n",
    "\n",
    "texts_1 = texts_1.astype(str).tolist()\n",
    "texts_2 = texts_2.astype(str).tolist()\n",
    "\n",
    "CV_texts_1 = CV_texts_1.astype(str).tolist()\n",
    "CV_texts_2 = CV_texts_2.astype(str).tolist()\n",
    "\n",
    "test_texts_1 = test_texts_1.astype(str).tolist()\n",
    "test_texts_2 = test_texts_2.astype(str).tolist()"
   ]
  },
  {
   "cell_type": "markdown",
   "metadata": {
    "_cell_guid": "eee8b38b-63d6-0aec-c766-1f4cf8a7a28d"
   },
   "source": [
    "Using keras tokenizer to tokenize the text and then do padding the sentences to 30 words"
   ]
  },
  {
   "cell_type": "code",
   "execution_count": 2,
   "metadata": {
    "_cell_guid": "cdb3f7de-05a0-c068-e65c-8e25f527e292"
   },
   "outputs": [
    {
     "ename": "NameError",
     "evalue": "name 'Tokenizer' is not defined",
     "output_type": "error",
     "traceback": [
      "\u001b[0;31m---------------------------------------------------------------------------\u001b[0m",
      "\u001b[0;31mNameError\u001b[0m                                 Traceback (most recent call last)",
      "\u001b[0;32m<ipython-input-2-69ad0cf8b4d4>\u001b[0m in \u001b[0;36m<module>\u001b[0;34m()\u001b[0m\n\u001b[0;32m----> 1\u001b[0;31m \u001b[0mtokenizer\u001b[0m \u001b[0;34m=\u001b[0m \u001b[0mTokenizer\u001b[0m\u001b[0;34m(\u001b[0m\u001b[0mnum_words\u001b[0m\u001b[0;34m=\u001b[0m\u001b[0mMAX_NB_WORDS\u001b[0m\u001b[0;34m)\u001b[0m\u001b[0;34m\u001b[0m\u001b[0m\n\u001b[0m\u001b[1;32m      2\u001b[0m \u001b[0mtokenizer\u001b[0m\u001b[0;34m.\u001b[0m\u001b[0mfit_on_texts\u001b[0m\u001b[0;34m(\u001b[0m\u001b[0mall_texts\u001b[0m\u001b[0;34m)\u001b[0m\u001b[0;34m\u001b[0m\u001b[0m\n\u001b[1;32m      3\u001b[0m \u001b[0;34m\u001b[0m\u001b[0m\n\u001b[1;32m      4\u001b[0m \u001b[0msequences_1\u001b[0m \u001b[0;34m=\u001b[0m \u001b[0mtokenizer\u001b[0m\u001b[0;34m.\u001b[0m\u001b[0mtexts_to_sequences\u001b[0m\u001b[0;34m(\u001b[0m\u001b[0mtexts_1\u001b[0m\u001b[0;34m)\u001b[0m\u001b[0;34m\u001b[0m\u001b[0m\n\u001b[1;32m      5\u001b[0m \u001b[0msequences_2\u001b[0m \u001b[0;34m=\u001b[0m \u001b[0mtokenizer\u001b[0m\u001b[0;34m.\u001b[0m\u001b[0mtexts_to_sequences\u001b[0m\u001b[0;34m(\u001b[0m\u001b[0mtexts_2\u001b[0m\u001b[0;34m)\u001b[0m\u001b[0;34m\u001b[0m\u001b[0m\n",
      "\u001b[0;31mNameError\u001b[0m: name 'Tokenizer' is not defined"
     ]
    }
   ],
   "source": [
    "tokenizer = Tokenizer(num_words=MAX_NB_WORDS)\n",
    "tokenizer.fit_on_texts(all_texts)\n",
    "\n",
    "sequences_1 = tokenizer.texts_to_sequences(texts_1)\n",
    "sequences_2 = tokenizer.texts_to_sequences(texts_2)\n",
    "word_index = tokenizer.word_index\n",
    "print('Found %s unique tokens.' % len(word_index))\n",
    "\n",
    "CV_sequences_1 = tokenizer.texts_to_sequences(CV_texts_1)\n",
    "CV_sequences_2 = tokenizer.texts_to_sequences(CV_texts_2)\n",
    "\n",
    "test_sequences_1 = tokenizer.texts_to_sequences(test_texts_1)\n",
    "test_sequences_2 = tokenizer.texts_to_sequences(test_texts_2)\n",
    "\n",
    "data_1 = pad_sequences(sequences_1, maxlen=MAX_SEQUENCE_LENGTH)\n",
    "data_2 = pad_sequences(sequences_2, maxlen=MAX_SEQUENCE_LENGTH)\n",
    "labels = np.array(labels)\n",
    "print('Shape of data tensor:', data_1.shape)\n",
    "print('Shape of label tensor:', labels.shape)\n",
    "\n",
    "CV_data_1 = pad_sequences(CV_sequences_1, maxlen=MAX_SEQUENCE_LENGTH)\n",
    "CV_data_2 = pad_sequences(CV_sequences_2, maxlen=MAX_SEQUENCE_LENGTH)\n",
    "\n",
    "test_data_1 = pad_sequences(test_sequences_1, maxlen=MAX_SEQUENCE_LENGTH)\n",
    "test_data_2 = pad_sequences(test_sequences_2, maxlen=MAX_SEQUENCE_LENGTH)\n",
    "#test_labels = np.array(test_labels)\n",
    "\n",
    "del CV_sequences_1\n",
    "del CV_sequences_2\n",
    "del test_sequences_1\n",
    "del test_sequences_2\n",
    "del sequences_1\n",
    "del sequences_2\n",
    "\n",
    "import gc\n",
    "gc.collect()\n",
    "\n",
    "test_data_1"
   ]
  },
  {
   "cell_type": "markdown",
   "metadata": {
    "_cell_guid": "1243e57b-8a99-0ff6-ff1c-ce3f87e38b12"
   },
   "source": [
    "Now let us create the embedding matrix where each row corresponds to a word."
   ]
  },
  {
   "cell_type": "code",
   "execution_count": 11,
   "metadata": {
    "_cell_guid": "ca875eb8-ed26-4fbc-9f53-e38ea5f98af7"
   },
   "outputs": [
    {
     "name": "stdout",
     "output_type": "stream",
     "text": [
      "Preparing embedding matrix.\n",
      "Null word embeddings: 35541\n"
     ]
    }
   ],
   "source": [
    "print('Preparing embedding matrix.')\n",
    "# prepare embedding matrix\n",
    "nb_words = min(MAX_NB_WORDS, len(word_index))\n",
    "\n",
    "embedding_matrix = np.zeros((nb_words, EMBEDDING_DIM))\n",
    "for word, i in word_index.items():\n",
    "    if i >= nb_words:\n",
    "        continue\n",
    "    embedding_vector = embeddings_index.get(word)\n",
    "    if embedding_vector is not None:\n",
    "        # words not found in embedding index will be all-zeros.\n",
    "        embedding_matrix[i] = embedding_vector\n",
    "print('Null word embeddings: %d' % np.sum(np.sum(embedding_matrix, axis=1) == 0))"
   ]
  },
  {
   "cell_type": "code",
   "execution_count": 108,
   "metadata": {
    "collapsed": true
   },
   "outputs": [],
   "source": [
    "####Augment data so questions are both ways round (Q1, Q2 v. Q2, Q1)\n",
    "data_1_aug = np.concatenate([data_1,data_2], axis = 0)\n",
    "data_2_aug = np.concatenate([data_2,data_1], axis = 0)\n",
    "labels_aug = np.concatenate([labels,labels], axis = 0)"
   ]
  },
  {
   "cell_type": "markdown",
   "metadata": {
    "_cell_guid": "56d1f6fa-b9bc-4a70-66ea-6a8acad13c46"
   },
   "source": [
    "Now its time to build the model. Let us specify the model architecture. First layer is the embedding layer."
   ]
  },
  {
   "cell_type": "markdown",
   "metadata": {
    "_cell_guid": "f163b655-f4a3-7ce6-42e8-e634ec1f39ee"
   },
   "source": [
    "In embedding layer, 'trainable' is set to False so as to not train the word embeddings during the back propogation.\n",
    "\n",
    "The neural net architecture is as follows:\n",
    "\n",
    "1. Word embeddings of each question is passed to a 1-dimensional convolution layer followed by max pooling.\n",
    "2. It is followed by one dense layer for each of the two questions\n",
    "3. The outputs from both the dense layers are merged together\n",
    "4. It is followed by a dense layer\n",
    "5. Final layer is a sigmoid layer"
   ]
  },
  {
   "cell_type": "code",
   "execution_count": 110,
   "metadata": {
    "_cell_guid": "56eeb1b2-998e-b696-d031-9f71639c9205",
    "collapsed": true
   },
   "outputs": [],
   "source": [
    "embedding_layer = Embedding(nb_words,\n",
    "                            EMBEDDING_DIM,\n",
    "                            weights=[embedding_matrix],\n",
    "                            input_length=MAX_SEQUENCE_LENGTH,\n",
    "                            trainable=False)"
   ]
  },
  {
   "cell_type": "code",
   "execution_count": 3,
   "metadata": {
    "_cell_guid": "278ea96d-a2f3-d93b-00e2-3f57433aa409"
   },
   "outputs": [
    {
     "ename": "NameError",
     "evalue": "name 'LSTM' is not defined",
     "output_type": "error",
     "traceback": [
      "\u001b[0;31m---------------------------------------------------------------------------\u001b[0m",
      "\u001b[0;31mNameError\u001b[0m                                 Traceback (most recent call last)",
      "\u001b[0;32m<ipython-input-3-594d144708d5>\u001b[0m in \u001b[0;36m<module>\u001b[0;34m()\u001b[0m\n\u001b[1;32m      6\u001b[0m \u001b[0mre_weight\u001b[0m \u001b[0;34m=\u001b[0m \u001b[0mTrue\u001b[0m\u001b[0;34m\u001b[0m\u001b[0m\n\u001b[1;32m      7\u001b[0m \u001b[0;34m\u001b[0m\u001b[0m\n\u001b[0;32m----> 8\u001b[0;31m \u001b[0mlstm_layer\u001b[0m \u001b[0;34m=\u001b[0m \u001b[0mLSTM\u001b[0m\u001b[0;34m(\u001b[0m\u001b[0mnum_lstm\u001b[0m\u001b[0;34m,\u001b[0m \u001b[0mdropout\u001b[0m\u001b[0;34m=\u001b[0m\u001b[0mrate_drop_lstm\u001b[0m\u001b[0;34m,\u001b[0m \u001b[0mrecurrent_dropout\u001b[0m\u001b[0;34m=\u001b[0m\u001b[0mrate_drop_lstm\u001b[0m\u001b[0;34m)\u001b[0m\u001b[0;34m\u001b[0m\u001b[0m\n\u001b[0m\u001b[1;32m      9\u001b[0m \u001b[0;31m#lstm_layer = Bidirectional(LSTM(num_lstm, dropout=rate_drop_lstm, recurrent_dropout=rate_drop_lstm))\u001b[0m\u001b[0;34m\u001b[0m\u001b[0;34m\u001b[0m\u001b[0m\n\u001b[1;32m     10\u001b[0m \u001b[0;34m\u001b[0m\u001b[0m\n",
      "\u001b[0;31mNameError\u001b[0m: name 'LSTM' is not defined"
     ]
    }
   ],
   "source": [
    "num_lstm = np.random.randint(175, 275)\n",
    "num_dense = np.random.randint(100, 150)\n",
    "rate_drop_lstm = 0.15 + np.random.rand() * 0.25\n",
    "rate_drop_dense = 0.15 + np.random.rand() * 0.25\n",
    "act = 'relu'\n",
    "re_weight = True\n",
    "\n",
    "lstm_layer = LSTM(num_lstm, dropout=rate_drop_lstm, recurrent_dropout=rate_drop_lstm)\n",
    "#lstm_layer = Bidirectional(LSTM(num_lstm, dropout=rate_drop_lstm, recurrent_dropout=rate_drop_lstm))\n",
    "\n",
    "sequence_1_input = Input(shape=(MAX_SEQUENCE_LENGTH,), dtype='int32')\n",
    "embedded_sequences_1 = embedding_layer(sequence_1_input)\n",
    "x1 = lstm_layer(embedded_sequences_1)\n",
    "\n",
    "sequence_2_input = Input(shape=(MAX_SEQUENCE_LENGTH,), dtype='int32')\n",
    "embedded_sequences_2 = embedding_layer(sequence_2_input)\n",
    "y1 = lstm_layer(embedded_sequences_2)\n",
    "\n",
    "\n",
    "merged = concatenate([x1, y1])\n",
    "merged = Dropout(rate_drop_dense)(merged)\n",
    "merged = BatchNormalization()(merged)\n",
    "\n",
    "merged = Dense(num_dense, activation=act)(merged)\n",
    "merged = Dropout(rate_drop_dense)(merged)\n",
    "merged = BatchNormalization()(merged)\n",
    "\n",
    "merged = Dense(num_dense, activation=act)(merged)\n",
    "merged = Dropout(rate_drop_dense)(merged)\n",
    "merged = BatchNormalization()(merged)\n",
    "\n",
    "preds = Dense(1, activation='sigmoid')(merged)\n",
    "\n",
    "if re_weight:\n",
    "    class_weight = {0: 1.309028344, 1: 0.472001959}\n",
    "else:\n",
    "    class_weight = None\n",
    "\n",
    "model = Model(inputs=[sequence_1_input, sequence_2_input], \\\n",
    "        outputs=preds)\n",
    "model.compile(loss='binary_crossentropy',\n",
    "        optimizer='nadam',\n",
    "        metrics=['acc'])"
   ]
  },
  {
   "cell_type": "markdown",
   "metadata": {
    "_cell_guid": "2e1c2121-a1ce-f9a6-bbf8-c9290bc864d4"
   },
   "source": [
    "**Model training and predictions :**\n",
    "\n",
    "Uncomment the below cell and run it in local as it is exceeding the time limits here."
   ]
  },
  {
   "cell_type": "code",
   "execution_count": 131,
   "metadata": {
    "_cell_guid": "19e71349-400c-f6c8-c2dd-becb6c8cb722"
   },
   "outputs": [
    {
     "name": "stdout",
     "output_type": "stream",
     "text": [
      "Train on 607869 samples, validate on 6141 samples\n",
      "Epoch 1/3\n",
      "607869/607869 [==============================] - 3097s - loss: 0.3508 - acc: 0.8391 - val_loss: 0.3268 - val_acc: 0.8497\n",
      "Epoch 2/3\n",
      "607869/607869 [==============================] - 3242s - loss: 0.3442 - acc: 0.8428 - val_loss: 0.3228 - val_acc: 0.8564\n",
      "Epoch 3/3\n",
      "607869/607869 [==============================] - 3255s - loss: 0.3401 - acc: 0.8450 - val_loss: 0.3159 - val_acc: 0.8567\n"
     ]
    },
    {
     "data": {
      "text/plain": [
       "<keras.callbacks.History at 0x19738fa50>"
      ]
     },
     "execution_count": 131,
     "metadata": {},
     "output_type": "execute_result"
    }
   ],
   "source": [
    "#model.fit([data_1,data_2], labels, validation_split=VALIDATION_SPLIT, epochs=1, batch_size=1024, shuffle=True)\n"
   ]
  },
  {
   "cell_type": "code",
   "execution_count": 132,
   "metadata": {
    "collapsed": true
   },
   "outputs": [],
   "source": [
    "from helpers import save_model\n",
    "save_model(model, BASE_DIR)"
   ]
  },
  {
   "cell_type": "code",
   "execution_count": 133,
   "metadata": {},
   "outputs": [
    {
     "name": "stdout",
     "output_type": "stream",
     "text": [
      "(16159, 1)\n",
      "[[ 0.00449069]\n",
      " [ 0.01784229]\n",
      " [ 0.30560076]\n",
      " ..., \n",
      " [ 0.69071585]\n",
      " [ 0.0028491 ]\n",
      " [ 0.71348763]]\n"
     ]
    }
   ],
   "source": [
    "preds = model.predict([CV_data_1, CV_data_2])\n",
    "print(preds.shape)\n",
    "print(preds)"
   ]
  },
  {
   "cell_type": "code",
   "execution_count": 134,
   "metadata": {},
   "outputs": [
    {
     "data": {
      "text/plain": [
       "0.8274026858097655"
      ]
     },
     "execution_count": 134,
     "metadata": {},
     "output_type": "execute_result"
    }
   ],
   "source": [
    "out_df = pd.DataFrame({\"is_duplicate\":CV_labels, \"pred_is_duplicate\":np.round(preds.ravel()).astype(int)})\n",
    "\n",
    "out_df['correct_pred'] = out_df['is_duplicate'] == out_df['pred_is_duplicate']\n",
    "\n",
    "np.sum(out_df['correct_pred']).astype(float)/len(out_df['correct_pred'])\n",
    "\n",
    "#out_df.to_csv(\"test_predictions.csv\", index=False)\n",
    "\n",
    "#pd.DataFrame({\"is_duplicate\":preds.ravel()}).to_csv(\"keras_LSTM_predictions.csv\", index=False)"
   ]
  },
  {
   "cell_type": "code",
   "execution_count": 135,
   "metadata": {},
   "outputs": [
    {
     "name": "stdout",
     "output_type": "stream",
     "text": [
      "(81113, 1)\n",
      "[[ 0.99865049]\n",
      " [ 0.63790494]\n",
      " [ 0.07568309]\n",
      " ..., \n",
      " [ 0.04909017]\n",
      " [ 0.09136886]\n",
      " [ 0.13600092]]\n"
     ]
    }
   ],
   "source": [
    "#FAILS AT 81114?!\n",
    "\n",
    "final_preds = model.predict([test_data_1[:81113], test_data_2[:81113]])\n",
    "print(final_preds.shape)\n",
    "print(final_preds)"
   ]
  },
  {
   "cell_type": "code",
   "execution_count": 136,
   "metadata": {
    "collapsed": true
   },
   "outputs": [],
   "source": [
    "final_df = pd.DataFrame({\"test_id\":test_ids[:81113], \"nn_out\":final_preds.ravel()})\n",
    "final_df.to_csv(\"test_preds_for_logreg.csv\", index=False)\n"
   ]
  },
  {
   "cell_type": "code",
   "execution_count": 137,
   "metadata": {
    "collapsed": true
   },
   "outputs": [],
   "source": [
    "train_preds = model.predict([data_1, data_2])"
   ]
  },
  {
   "cell_type": "code",
   "execution_count": 138,
   "metadata": {
    "collapsed": true
   },
   "outputs": [],
   "source": [
    "xtra_df = pd.DataFrame({\"test_id\":train_ids, \"nn_out\":train_preds.ravel()})\n",
    "xtra_df.to_csv(\"preds_for_logreg.csv\", index=False)"
   ]
  },
  {
   "cell_type": "markdown",
   "metadata": {
    "_cell_guid": "42eb8b2d-d666-ae90-c98a-cfa277b7400e"
   },
   "source": [
    "This scores about 0.55 when run locally using the word embedding. Got better scores using LSTM and Time Distributed layer.\n",
    "\n",
    "Try different architectures and have a happy learning."
   ]
  },
  {
   "cell_type": "markdown",
   "metadata": {
    "_cell_guid": "e46ad003-246c-2bcc-bbf7-57cbacd66c34"
   },
   "source": [
    "Hope this helps to get started with keras and word embeddings in this competition."
   ]
  },
  {
   "cell_type": "markdown",
   "metadata": {
    "_cell_guid": "dd9e6c69-cdd6-87c4-2c0c-79cfd0aa466f"
   },
   "source": [
    "**References :**\n",
    "\n",
    " 1. [On word embeddings - part 1][1] by Sebastian Ruder\n",
    " 2. [Blog post][2] by fchollet\n",
    " 3. [Code][3] by Abhishek Thakur\n",
    " 4. [Code][4] by Bradley Pallen\n",
    "\n",
    "\n",
    "  [1]: http://sebastianruder.com/word-embeddings-1/\n",
    "  [2]: https://blog.keras.io/using-pre-trained-word-embeddings-in-a-keras-model.html\n",
    "  [3]: https://github.com/abhishekkrthakur/is_that_a_duplicate_quora_question\n",
    "  [4]: https://github.com/bradleypallen/keras-quora-question-pairs"
   ]
  }
 ],
 "metadata": {
  "_change_revision": 9,
  "_is_fork": false,
  "kernelspec": {
   "display_name": "Python 2",
   "language": "python",
   "name": "python2"
  },
  "language_info": {
   "codemirror_mode": {
    "name": "ipython",
    "version": 2
   },
   "file_extension": ".py",
   "mimetype": "text/x-python",
   "name": "python",
   "nbconvert_exporter": "python",
   "pygments_lexer": "ipython2",
   "version": "2.7.13"
  }
 },
 "nbformat": 4,
 "nbformat_minor": 1
}
