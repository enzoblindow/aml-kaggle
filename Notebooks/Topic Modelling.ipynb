{
 "cells": [
  {
   "cell_type": "markdown",
   "metadata": {},
   "source": [
    "### Import Modules and Data"
   ]
  },
  {
   "cell_type": "code",
   "execution_count": 233,
   "metadata": {
    "collapsed": true
   },
   "outputs": [],
   "source": [
    "import numpy as np\n",
    "import pandas as pd\n",
    "import re\n",
    "\n",
    "import gensim\n",
    "from nltk.corpus import stopwords\n",
    "\n",
    "from gensim.corpora import Dictionary\n",
    "from gensim import corpora, models\n",
    "\n",
    "from tqdm import tqdm"
   ]
  },
  {
   "cell_type": "code",
   "execution_count": 234,
   "metadata": {},
   "outputs": [
    {
     "name": "stderr",
     "output_type": "stream",
     "text": [
      "/Users/tom/anaconda/lib/python2.7/site-packages/ipykernel_launcher.py:7: SettingWithCopyWarning: \n",
      "A value is trying to be set on a copy of a slice from a DataFrame\n",
      "\n",
      "See the caveats in the documentation: http://pandas.pydata.org/pandas-docs/stable/indexing.html#indexing-view-versus-copy\n",
      "  import sys\n"
     ]
    }
   ],
   "source": [
    "df_train = pd.read_csv('../data/train_data.csv')\n",
    "df_test = pd.read_csv('../data/test_data.csv')\n",
    "df_test.columns = ['id','question1','question2']\n",
    "all_qs = pd.concat([df_train,df_test], axis = 0).drop('is_duplicate', axis = 1)\n",
    "\n",
    "#correction for nas\n",
    "all_qs['question2'][all_qs['question2'].isnull()] = 'Invalid'"
   ]
  },
  {
   "cell_type": "markdown",
   "metadata": {},
   "source": [
    "### Define Topic Modelling Functions"
   ]
  },
  {
   "cell_type": "code",
   "execution_count": 235,
   "metadata": {
    "collapsed": true
   },
   "outputs": [],
   "source": [
    "stops = set(stopwords.words(\"english\"))"
   ]
  },
  {
   "cell_type": "code",
   "execution_count": 236,
   "metadata": {
    "collapsed": true
   },
   "outputs": [],
   "source": [
    "def string_to_words(text):\n",
    "    text = re.sub(\"[^a-zA-Z]\", \" \", text)\n",
    "    text = text.lower().split()\n",
    "    words = [t for t in text if not t in stops]\n",
    "    return(words)"
   ]
  },
  {
   "cell_type": "code",
   "execution_count": 237,
   "metadata": {
    "collapsed": true
   },
   "outputs": [],
   "source": [
    "def extract_topic_modelling(question_list, topics, threshold):\n",
    "        \n",
    "        ids = question_list['id']\n",
    "        q1_list = question_list['question1']\n",
    "        q2_list = question_list['question2']\n",
    "        all_questions = list(q1_list) + list(q2_list)\n",
    "\n",
    "        #Tokenize and create dictionary (Gensim)\n",
    "        tok_qs = [string_to_words(q) for q in all_questions]\n",
    "        dictionary = Dictionary(tok_qs)\n",
    "\n",
    "        #Filter extreme values\n",
    "        dictionary.filter_extremes(no_below=1, no_above=0.8)\n",
    "\n",
    "        #Convert to bagofwords and train on \n",
    "        corpus = [dictionary.doc2bow(q) for q in tok_qs]\n",
    "        LDA = models.LdaModel(corpus, id2word=dictionary, num_topics=topics)\n",
    "          \n",
    "        #Q1 Document Topics\n",
    "        empty_df = np.zeros(shape=(len(q1_list),topics))\n",
    "        \n",
    "        cols = []\n",
    "        for i in range(0, topics):\n",
    "            cols.append('q1_prob' + str(i))\n",
    "\n",
    "        q1_df = pd.DataFrame(empty_df, columns=cols)\n",
    "\n",
    "        for x in tqdm(range(0, len(q1_list))):\n",
    "            topic_list = LDA.get_document_topics(corpus[x])\n",
    "            for topic in topic_list:\n",
    "                top = topic[0]\n",
    "                prob = topic[1]\n",
    "                if prob >= threshold:\n",
    "                    q1_df['q1_prob'+str(top)][x] = 1\n",
    "                else:\n",
    "                    q1_df['q1_prob'+str(top)][x] = 0\n",
    "\n",
    "        #Q2 Document Topics\n",
    "        empty_df = np.zeros(shape=(len(q2_list),topics))\n",
    "        \n",
    "        cols = []\n",
    "        for i in range(0, topics):\n",
    "            cols.append('q2_prob' + str(i))\n",
    "\n",
    "        q2_df = pd.DataFrame(empty_df, columns=cols)\n",
    "\n",
    "        for x in tqdm(range(len(q1_list), len(corpus))):\n",
    "            topic_list = LDA.get_document_topics(corpus[x])\n",
    "            for topic in topic_list:\n",
    "                top = topic[0]\n",
    "                prob = topic[1]\n",
    "                if prob >= threshold:\n",
    "                    q2_df['q2_prob'+str(top)][x-len(q1_list)] = 1\n",
    "                else:\n",
    "                    q2_df['q2_prob'+str(top)][x-len(q1_list)] = 0\n",
    "        \n",
    "        sim_colnames = ['similarity_topic'+ str(i) for i in range(0,topics)]\n",
    "        sim_df = pd.DataFrame(np.zeros(shape=(len(q1_list),topics)), columns = sim_colnames)\n",
    "        \n",
    "        for i in range(0,topics):\n",
    "            sim_df['similarity_topic'+ str(i)] = np.maximum((q1_df['q1_prob' + str(i)] + q2_df['q2_prob' + str(i)]) - 1,0)\n",
    "\n",
    "                \n",
    "        dissim_colnames = ['dissimilarity_topic'+ str(i) for i in range(0,topics)]\n",
    "        dissim_df = pd.DataFrame(np.zeros(shape=(len(q1_list),topics)), columns = dissim_colnames)\n",
    "        \n",
    "        for i in range(0,topics):\n",
    "            dissim_df['dissimilarity_topic'+ str(i)] = (q1_df['q1_prob' + str(i)] + q2_df['q2_prob' + str(i)]) % 2\n",
    "       \n",
    "        all_topics = pd.concat([sim_df, dissim_df], axis = 1)\n",
    "        all_topics = pd.concat([ids.reset_index()['id'],all_topics],axis = 1)\n",
    "        \n",
    "        return all_topics"
   ]
  },
  {
   "cell_type": "code",
   "execution_count": 238,
   "metadata": {
    "collapsed": true
   },
   "outputs": [],
   "source": [
    "topics = extract_topic_modelling(all_qs,topics = 50, threshold = 0.7)"
   ]
  },
  {
   "cell_type": "code",
   "execution_count": 239,
   "metadata": {
    "collapsed": true
   },
   "outputs": [],
   "source": [
    "#topics.to_csv('topic_modelling_output.csv',index = False)"
   ]
  },
  {
   "cell_type": "code",
   "execution_count": 242,
   "metadata": {},
   "outputs": [
    {
     "name": "stderr",
     "output_type": "stream",
     "text": [
      "100%|██████████| 1000/1000 [00:01<00:00, 829.82it/s]\n",
      "100%|██████████| 1000/1000 [00:01<00:00, 740.36it/s]\n"
     ]
    }
   ],
   "source": [
    "#topics = extract_topic_modelling(all_qs.head(1000),topics = 5, threshold = 0.7)"
   ]
  }
 ],
 "metadata": {
  "kernelspec": {
   "display_name": "Python 2",
   "language": "python",
   "name": "python2"
  },
  "language_info": {
   "codemirror_mode": {
    "name": "ipython",
    "version": 2
   },
   "file_extension": ".py",
   "mimetype": "text/x-python",
   "name": "python",
   "nbconvert_exporter": "python",
   "pygments_lexer": "ipython2",
   "version": "2.7.13"
  }
 },
 "nbformat": 4,
 "nbformat_minor": 2
}
